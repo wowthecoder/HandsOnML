{
 "cells": [
  {
   "cell_type": "code",
   "execution_count": 1,
   "id": "a820d2e0",
   "metadata": {
    "_cell_guid": "b1076dfc-b9ad-4769-8c92-a6c4dae69d19",
    "_uuid": "8f2839f25d086af736a60e9eeb907d3b93b6e0e5",
    "execution": {
     "iopub.execute_input": "2024-02-04T20:47:06.081308Z",
     "iopub.status.busy": "2024-02-04T20:47:06.080992Z",
     "iopub.status.idle": "2024-02-04T20:47:14.068544Z",
     "shell.execute_reply": "2024-02-04T20:47:14.067517Z"
    },
    "papermill": {
     "duration": 8.007114,
     "end_time": "2024-02-04T20:47:14.070955",
     "exception": false,
     "start_time": "2024-02-04T20:47:06.063841",
     "status": "completed"
    },
    "tags": []
   },
   "outputs": [],
   "source": [
    "import numpy as np \n",
    "import pandas as pd \n",
    "\n",
    "# Input data files are available in the read-only \"../input/\" directory\n",
    "# For example, running this (by clicking run or pressing Shift+Enter) will list all files under the input directory\n",
    "\n",
    "X_train_full = pd.read_csv('../input/fashionmnist/fashion-mnist_train.csv')\n",
    "X_test = pd.read_csv('../input/fashionmnist/fashion-mnist_test.csv')\n",
    "\n",
    "#Remove rows with missing target, separate target from predictors\n",
    "X_train_full.dropna(axis=0, subset=['label'], inplace=True)\n",
    "y_train_full = X_train_full.label\n",
    "X_train_full.drop(['label'], axis=1, inplace=True)\n",
    "y_test = X_test.label\n",
    "X_test.drop(['label'], axis=1, inplace=True)"
   ]
  },
  {
   "cell_type": "code",
   "execution_count": 2,
   "id": "9d195179",
   "metadata": {
    "execution": {
     "iopub.execute_input": "2024-02-04T20:47:14.105210Z",
     "iopub.status.busy": "2024-02-04T20:47:14.104679Z",
     "iopub.status.idle": "2024-02-04T20:47:14.131821Z",
     "shell.execute_reply": "2024-02-04T20:47:14.131067Z"
    },
    "papermill": {
     "duration": 0.045513,
     "end_time": "2024-02-04T20:47:14.133763",
     "exception": false,
     "start_time": "2024-02-04T20:47:14.088250",
     "status": "completed"
    },
    "tags": []
   },
   "outputs": [
    {
     "data": {
      "text/html": [
       "<div>\n",
       "<style scoped>\n",
       "    .dataframe tbody tr th:only-of-type {\n",
       "        vertical-align: middle;\n",
       "    }\n",
       "\n",
       "    .dataframe tbody tr th {\n",
       "        vertical-align: top;\n",
       "    }\n",
       "\n",
       "    .dataframe thead th {\n",
       "        text-align: right;\n",
       "    }\n",
       "</style>\n",
       "<table border=\"1\" class=\"dataframe\">\n",
       "  <thead>\n",
       "    <tr style=\"text-align: right;\">\n",
       "      <th></th>\n",
       "      <th>pixel1</th>\n",
       "      <th>pixel2</th>\n",
       "      <th>pixel3</th>\n",
       "      <th>pixel4</th>\n",
       "      <th>pixel5</th>\n",
       "      <th>pixel6</th>\n",
       "      <th>pixel7</th>\n",
       "      <th>pixel8</th>\n",
       "      <th>pixel9</th>\n",
       "      <th>pixel10</th>\n",
       "      <th>...</th>\n",
       "      <th>pixel775</th>\n",
       "      <th>pixel776</th>\n",
       "      <th>pixel777</th>\n",
       "      <th>pixel778</th>\n",
       "      <th>pixel779</th>\n",
       "      <th>pixel780</th>\n",
       "      <th>pixel781</th>\n",
       "      <th>pixel782</th>\n",
       "      <th>pixel783</th>\n",
       "      <th>pixel784</th>\n",
       "    </tr>\n",
       "  </thead>\n",
       "  <tbody>\n",
       "    <tr>\n",
       "      <th>0</th>\n",
       "      <td>0</td>\n",
       "      <td>0</td>\n",
       "      <td>0</td>\n",
       "      <td>0</td>\n",
       "      <td>0</td>\n",
       "      <td>0</td>\n",
       "      <td>0</td>\n",
       "      <td>0</td>\n",
       "      <td>0</td>\n",
       "      <td>0</td>\n",
       "      <td>...</td>\n",
       "      <td>0</td>\n",
       "      <td>0</td>\n",
       "      <td>0</td>\n",
       "      <td>0</td>\n",
       "      <td>0</td>\n",
       "      <td>0</td>\n",
       "      <td>0</td>\n",
       "      <td>0</td>\n",
       "      <td>0</td>\n",
       "      <td>0</td>\n",
       "    </tr>\n",
       "    <tr>\n",
       "      <th>1</th>\n",
       "      <td>0</td>\n",
       "      <td>0</td>\n",
       "      <td>0</td>\n",
       "      <td>0</td>\n",
       "      <td>0</td>\n",
       "      <td>0</td>\n",
       "      <td>0</td>\n",
       "      <td>0</td>\n",
       "      <td>0</td>\n",
       "      <td>0</td>\n",
       "      <td>...</td>\n",
       "      <td>0</td>\n",
       "      <td>0</td>\n",
       "      <td>0</td>\n",
       "      <td>0</td>\n",
       "      <td>0</td>\n",
       "      <td>0</td>\n",
       "      <td>0</td>\n",
       "      <td>0</td>\n",
       "      <td>0</td>\n",
       "      <td>0</td>\n",
       "    </tr>\n",
       "    <tr>\n",
       "      <th>2</th>\n",
       "      <td>0</td>\n",
       "      <td>0</td>\n",
       "      <td>0</td>\n",
       "      <td>0</td>\n",
       "      <td>0</td>\n",
       "      <td>0</td>\n",
       "      <td>0</td>\n",
       "      <td>5</td>\n",
       "      <td>0</td>\n",
       "      <td>0</td>\n",
       "      <td>...</td>\n",
       "      <td>0</td>\n",
       "      <td>0</td>\n",
       "      <td>0</td>\n",
       "      <td>30</td>\n",
       "      <td>43</td>\n",
       "      <td>0</td>\n",
       "      <td>0</td>\n",
       "      <td>0</td>\n",
       "      <td>0</td>\n",
       "      <td>0</td>\n",
       "    </tr>\n",
       "    <tr>\n",
       "      <th>3</th>\n",
       "      <td>0</td>\n",
       "      <td>0</td>\n",
       "      <td>0</td>\n",
       "      <td>1</td>\n",
       "      <td>2</td>\n",
       "      <td>0</td>\n",
       "      <td>0</td>\n",
       "      <td>0</td>\n",
       "      <td>0</td>\n",
       "      <td>0</td>\n",
       "      <td>...</td>\n",
       "      <td>3</td>\n",
       "      <td>0</td>\n",
       "      <td>0</td>\n",
       "      <td>0</td>\n",
       "      <td>0</td>\n",
       "      <td>1</td>\n",
       "      <td>0</td>\n",
       "      <td>0</td>\n",
       "      <td>0</td>\n",
       "      <td>0</td>\n",
       "    </tr>\n",
       "    <tr>\n",
       "      <th>4</th>\n",
       "      <td>0</td>\n",
       "      <td>0</td>\n",
       "      <td>0</td>\n",
       "      <td>0</td>\n",
       "      <td>0</td>\n",
       "      <td>0</td>\n",
       "      <td>0</td>\n",
       "      <td>0</td>\n",
       "      <td>0</td>\n",
       "      <td>0</td>\n",
       "      <td>...</td>\n",
       "      <td>0</td>\n",
       "      <td>0</td>\n",
       "      <td>0</td>\n",
       "      <td>0</td>\n",
       "      <td>0</td>\n",
       "      <td>0</td>\n",
       "      <td>0</td>\n",
       "      <td>0</td>\n",
       "      <td>0</td>\n",
       "      <td>0</td>\n",
       "    </tr>\n",
       "    <tr>\n",
       "      <th>...</th>\n",
       "      <td>...</td>\n",
       "      <td>...</td>\n",
       "      <td>...</td>\n",
       "      <td>...</td>\n",
       "      <td>...</td>\n",
       "      <td>...</td>\n",
       "      <td>...</td>\n",
       "      <td>...</td>\n",
       "      <td>...</td>\n",
       "      <td>...</td>\n",
       "      <td>...</td>\n",
       "      <td>...</td>\n",
       "      <td>...</td>\n",
       "      <td>...</td>\n",
       "      <td>...</td>\n",
       "      <td>...</td>\n",
       "      <td>...</td>\n",
       "      <td>...</td>\n",
       "      <td>...</td>\n",
       "      <td>...</td>\n",
       "      <td>...</td>\n",
       "    </tr>\n",
       "    <tr>\n",
       "      <th>59995</th>\n",
       "      <td>0</td>\n",
       "      <td>0</td>\n",
       "      <td>0</td>\n",
       "      <td>0</td>\n",
       "      <td>0</td>\n",
       "      <td>0</td>\n",
       "      <td>0</td>\n",
       "      <td>0</td>\n",
       "      <td>0</td>\n",
       "      <td>0</td>\n",
       "      <td>...</td>\n",
       "      <td>0</td>\n",
       "      <td>0</td>\n",
       "      <td>0</td>\n",
       "      <td>0</td>\n",
       "      <td>0</td>\n",
       "      <td>0</td>\n",
       "      <td>0</td>\n",
       "      <td>0</td>\n",
       "      <td>0</td>\n",
       "      <td>0</td>\n",
       "    </tr>\n",
       "    <tr>\n",
       "      <th>59996</th>\n",
       "      <td>0</td>\n",
       "      <td>0</td>\n",
       "      <td>0</td>\n",
       "      <td>0</td>\n",
       "      <td>0</td>\n",
       "      <td>0</td>\n",
       "      <td>0</td>\n",
       "      <td>0</td>\n",
       "      <td>0</td>\n",
       "      <td>0</td>\n",
       "      <td>...</td>\n",
       "      <td>73</td>\n",
       "      <td>0</td>\n",
       "      <td>0</td>\n",
       "      <td>0</td>\n",
       "      <td>0</td>\n",
       "      <td>0</td>\n",
       "      <td>0</td>\n",
       "      <td>0</td>\n",
       "      <td>0</td>\n",
       "      <td>0</td>\n",
       "    </tr>\n",
       "    <tr>\n",
       "      <th>59997</th>\n",
       "      <td>0</td>\n",
       "      <td>0</td>\n",
       "      <td>0</td>\n",
       "      <td>0</td>\n",
       "      <td>0</td>\n",
       "      <td>0</td>\n",
       "      <td>0</td>\n",
       "      <td>0</td>\n",
       "      <td>0</td>\n",
       "      <td>0</td>\n",
       "      <td>...</td>\n",
       "      <td>160</td>\n",
       "      <td>162</td>\n",
       "      <td>163</td>\n",
       "      <td>135</td>\n",
       "      <td>94</td>\n",
       "      <td>0</td>\n",
       "      <td>0</td>\n",
       "      <td>0</td>\n",
       "      <td>0</td>\n",
       "      <td>0</td>\n",
       "    </tr>\n",
       "    <tr>\n",
       "      <th>59998</th>\n",
       "      <td>0</td>\n",
       "      <td>0</td>\n",
       "      <td>0</td>\n",
       "      <td>0</td>\n",
       "      <td>0</td>\n",
       "      <td>0</td>\n",
       "      <td>0</td>\n",
       "      <td>0</td>\n",
       "      <td>0</td>\n",
       "      <td>0</td>\n",
       "      <td>...</td>\n",
       "      <td>0</td>\n",
       "      <td>0</td>\n",
       "      <td>0</td>\n",
       "      <td>0</td>\n",
       "      <td>0</td>\n",
       "      <td>0</td>\n",
       "      <td>0</td>\n",
       "      <td>0</td>\n",
       "      <td>0</td>\n",
       "      <td>0</td>\n",
       "    </tr>\n",
       "    <tr>\n",
       "      <th>59999</th>\n",
       "      <td>0</td>\n",
       "      <td>0</td>\n",
       "      <td>0</td>\n",
       "      <td>0</td>\n",
       "      <td>0</td>\n",
       "      <td>0</td>\n",
       "      <td>0</td>\n",
       "      <td>0</td>\n",
       "      <td>0</td>\n",
       "      <td>0</td>\n",
       "      <td>...</td>\n",
       "      <td>0</td>\n",
       "      <td>0</td>\n",
       "      <td>0</td>\n",
       "      <td>0</td>\n",
       "      <td>0</td>\n",
       "      <td>0</td>\n",
       "      <td>0</td>\n",
       "      <td>0</td>\n",
       "      <td>0</td>\n",
       "      <td>0</td>\n",
       "    </tr>\n",
       "  </tbody>\n",
       "</table>\n",
       "<p>60000 rows × 784 columns</p>\n",
       "</div>"
      ],
      "text/plain": [
       "       pixel1  pixel2  pixel3  pixel4  pixel5  pixel6  pixel7  pixel8  pixel9  \\\n",
       "0           0       0       0       0       0       0       0       0       0   \n",
       "1           0       0       0       0       0       0       0       0       0   \n",
       "2           0       0       0       0       0       0       0       5       0   \n",
       "3           0       0       0       1       2       0       0       0       0   \n",
       "4           0       0       0       0       0       0       0       0       0   \n",
       "...       ...     ...     ...     ...     ...     ...     ...     ...     ...   \n",
       "59995       0       0       0       0       0       0       0       0       0   \n",
       "59996       0       0       0       0       0       0       0       0       0   \n",
       "59997       0       0       0       0       0       0       0       0       0   \n",
       "59998       0       0       0       0       0       0       0       0       0   \n",
       "59999       0       0       0       0       0       0       0       0       0   \n",
       "\n",
       "       pixel10  ...  pixel775  pixel776  pixel777  pixel778  pixel779  \\\n",
       "0            0  ...         0         0         0         0         0   \n",
       "1            0  ...         0         0         0         0         0   \n",
       "2            0  ...         0         0         0        30        43   \n",
       "3            0  ...         3         0         0         0         0   \n",
       "4            0  ...         0         0         0         0         0   \n",
       "...        ...  ...       ...       ...       ...       ...       ...   \n",
       "59995        0  ...         0         0         0         0         0   \n",
       "59996        0  ...        73         0         0         0         0   \n",
       "59997        0  ...       160       162       163       135        94   \n",
       "59998        0  ...         0         0         0         0         0   \n",
       "59999        0  ...         0         0         0         0         0   \n",
       "\n",
       "       pixel780  pixel781  pixel782  pixel783  pixel784  \n",
       "0             0         0         0         0         0  \n",
       "1             0         0         0         0         0  \n",
       "2             0         0         0         0         0  \n",
       "3             1         0         0         0         0  \n",
       "4             0         0         0         0         0  \n",
       "...         ...       ...       ...       ...       ...  \n",
       "59995         0         0         0         0         0  \n",
       "59996         0         0         0         0         0  \n",
       "59997         0         0         0         0         0  \n",
       "59998         0         0         0         0         0  \n",
       "59999         0         0         0         0         0  \n",
       "\n",
       "[60000 rows x 784 columns]"
      ]
     },
     "execution_count": 2,
     "metadata": {},
     "output_type": "execute_result"
    }
   ],
   "source": [
    "X_train_full"
   ]
  },
  {
   "cell_type": "code",
   "execution_count": 3,
   "id": "7cec0f3d",
   "metadata": {
    "execution": {
     "iopub.execute_input": "2024-02-04T20:47:14.168190Z",
     "iopub.status.busy": "2024-02-04T20:47:14.167841Z",
     "iopub.status.idle": "2024-02-04T20:47:14.173164Z",
     "shell.execute_reply": "2024-02-04T20:47:14.172355Z"
    },
    "papermill": {
     "duration": 0.025148,
     "end_time": "2024-02-04T20:47:14.175038",
     "exception": false,
     "start_time": "2024-02-04T20:47:14.149890",
     "status": "completed"
    },
    "tags": []
   },
   "outputs": [
    {
     "data": {
      "text/plain": [
       "(60000, 784)"
      ]
     },
     "execution_count": 3,
     "metadata": {},
     "output_type": "execute_result"
    }
   ],
   "source": [
    "X_train_full.shape"
   ]
  },
  {
   "cell_type": "markdown",
   "id": "518dcb64",
   "metadata": {
    "papermill": {
     "duration": 0.015795,
     "end_time": "2024-02-04T20:47:14.206957",
     "exception": false,
     "start_time": "2024-02-04T20:47:14.191162",
     "status": "completed"
    },
    "tags": []
   },
   "source": [
    "There are 42000 images, and each image has 784 features. This is because each image is 28 x 28 pixels, and each feature simply represents one pixel's intensity, from 0 (white) to 255 (black). Let's take a look at one image from the dataset:"
   ]
  },
  {
   "cell_type": "code",
   "execution_count": 4,
   "id": "34b2f47a",
   "metadata": {
    "execution": {
     "iopub.execute_input": "2024-02-04T20:47:14.240367Z",
     "iopub.status.busy": "2024-02-04T20:47:14.240053Z",
     "iopub.status.idle": "2024-02-04T20:47:14.309293Z",
     "shell.execute_reply": "2024-02-04T20:47:14.308418Z"
    },
    "papermill": {
     "duration": 0.088258,
     "end_time": "2024-02-04T20:47:14.311255",
     "exception": false,
     "start_time": "2024-02-04T20:47:14.222997",
     "status": "completed"
    },
    "tags": []
   },
   "outputs": [
    {
     "data": {
      "image/png": "[encoded data removed]",
      "text/plain": [
       "<Figure size 640x480 with 1 Axes>"
      ]
     },
     "metadata": {},
     "output_type": "display_data"
    }
   ],
   "source": [
    "import matplotlib.pyplot as plt\n",
    "\n",
    "def plot_image(image_data):\n",
    "    image = image_data.reshape(28,28)\n",
    "    plt.imshow(image, cmap=\"binary\")\n",
    "    plt.axis(\"off\")\n",
    "    \n",
    "# X is a pandas DataFrame, convert to numpy array first\n",
    "X_train_full = X_train_full.to_numpy()\n",
    "y_train_full = y_train_full.to_numpy()\n",
    "X_test = X_test.to_numpy()\n",
    "y_test = y_test.to_numpy()\n",
    "\n",
    "second_item = X_train_full[1]\n",
    "plot_image(second_item)\n",
    "plt.show()"
   ]
  },
  {
   "cell_type": "code",
   "execution_count": 5,
   "id": "b3cd1433",
   "metadata": {
    "execution": {
     "iopub.execute_input": "2024-02-04T20:47:14.345326Z",
     "iopub.status.busy": "2024-02-04T20:47:14.344759Z",
     "iopub.status.idle": "2024-02-04T20:47:14.350160Z",
     "shell.execute_reply": "2024-02-04T20:47:14.349335Z"
    },
    "papermill": {
     "duration": 0.024348,
     "end_time": "2024-02-04T20:47:14.351944",
     "exception": false,
     "start_time": "2024-02-04T20:47:14.327596",
     "status": "completed"
    },
    "tags": []
   },
   "outputs": [
    {
     "data": {
      "text/plain": [
       "9"
      ]
     },
     "execution_count": 5,
     "metadata": {},
     "output_type": "execute_result"
    }
   ],
   "source": [
    "y_train_full[1]"
   ]
  },
  {
   "cell_type": "markdown",
   "id": "149c00fd",
   "metadata": {
    "papermill": {
     "duration": 0.016249,
     "end_time": "2024-02-04T20:47:14.384517",
     "exception": false,
     "start_time": "2024-02-04T20:47:14.368268",
     "status": "completed"
    },
    "tags": []
   },
   "source": [
    "0 T-shirt/top,1 Trouser, 2 Pullover, 3 Dress, 4 Coat, 5 Sandal, 6 Shirt, 7 Sneaker, 8 Bag, 9 Ankle boot"
   ]
  },
  {
   "cell_type": "markdown",
   "id": "bdc0c07c",
   "metadata": {
    "papermill": {
     "duration": 0.016078,
     "end_time": "2024-02-04T20:47:14.416832",
     "exception": false,
     "start_time": "2024-02-04T20:47:14.400754",
     "status": "completed"
    },
    "tags": []
   },
   "source": [
    "# Self regularizing SELU network\n",
    "Let's try a neural net for Fashion MNIST with 100 hidden layers, using the SELU activation function:"
   ]
  },
  {
   "cell_type": "code",
   "execution_count": 6,
   "id": "89521cc3",
   "metadata": {
    "execution": {
     "iopub.execute_input": "2024-02-04T20:47:14.450302Z",
     "iopub.status.busy": "2024-02-04T20:47:14.450012Z",
     "iopub.status.idle": "2024-02-04T20:47:28.935853Z",
     "shell.execute_reply": "2024-02-04T20:47:28.934869Z"
    },
    "papermill": {
     "duration": 14.505238,
     "end_time": "2024-02-04T20:47:28.938287",
     "exception": false,
     "start_time": "2024-02-04T20:47:14.433049",
     "status": "completed"
    },
    "tags": []
   },
   "outputs": [
    {
     "name": "stderr",
     "output_type": "stream",
     "text": [
      "2024-02-04 20:47:16.240961: E external/local_xla/xla/stream_executor/cuda/cuda_dnn.cc:9261] Unable to register cuDNN factory: Attempting to register factory for plugin cuDNN when one has already been registered\n",
      "2024-02-04 20:47:16.241058: E external/local_xla/xla/stream_executor/cuda/cuda_fft.cc:607] Unable to register cuFFT factory: Attempting to register factory for plugin cuFFT when one has already been registered\n",
      "2024-02-04 20:47:16.373321: E external/local_xla/xla/stream_executor/cuda/cuda_blas.cc:1515] Unable to register cuBLAS factory: Attempting to register factory for plugin cuBLAS when one has already been registered\n"
     ]
    }
   ],
   "source": [
    "import tensorflow as tf\n",
    "from tensorflow.keras import Sequential\n",
    "from tensorflow.keras.layers import Flatten, Dense\n",
    "from tensorflow.keras.optimizers import SGD\n",
    "\n",
    "tf.random.set_seed(42)\n",
    "model = Sequential()\n",
    "model.add(Flatten(input_shape=[784]))\n",
    "for layer in range(100):\n",
    "    model.add(Dense(100, activation=\"selu\",\n",
    "                    kernel_initializer=\"lecun_normal\"))\n",
    "model.add(Dense(10, activation=\"softmax\"))\n",
    "\n",
    "model.compile(loss=\"sparse_categorical_crossentropy\",\n",
    "              optimizer=SGD(learning_rate=0.001),\n",
    "              metrics=[\"accuracy\"])"
   ]
  },
  {
   "cell_type": "markdown",
   "id": "75356fbb",
   "metadata": {
    "papermill": {
     "duration": 0.01634,
     "end_time": "2024-02-04T20:47:28.971407",
     "exception": false,
     "start_time": "2024-02-04T20:47:28.955067",
     "status": "completed"
    },
    "tags": []
   },
   "source": [
    "Do not forget to scale the inputs to mean 0 and standard deviation 1:"
   ]
  },
  {
   "cell_type": "code",
   "execution_count": 7,
   "id": "553bec0d",
   "metadata": {
    "execution": {
     "iopub.execute_input": "2024-02-04T20:47:29.005730Z",
     "iopub.status.busy": "2024-02-04T20:47:29.005425Z",
     "iopub.status.idle": "2024-02-04T20:47:29.161880Z",
     "shell.execute_reply": "2024-02-04T20:47:29.161060Z"
    },
    "papermill": {
     "duration": 0.176246,
     "end_time": "2024-02-04T20:47:29.164195",
     "exception": false,
     "start_time": "2024-02-04T20:47:28.987949",
     "status": "completed"
    },
    "tags": []
   },
   "outputs": [],
   "source": [
    "X_train, y_train = X_train_full[:-5000], y_train_full[:-5000]\n",
    "X_val, y_val = X_train_full[-5000:], y_train_full[-5000:]\n",
    "X_train, X_val, X_test = X_train / 255., X_val / 255., X_test / 255."
   ]
  },
  {
   "cell_type": "code",
   "execution_count": 8,
   "id": "d40134d7",
   "metadata": {
    "execution": {
     "iopub.execute_input": "2024-02-04T20:47:29.199082Z",
     "iopub.status.busy": "2024-02-04T20:47:29.198758Z",
     "iopub.status.idle": "2024-02-04T20:47:29.203050Z",
     "shell.execute_reply": "2024-02-04T20:47:29.202287Z"
    },
    "papermill": {
     "duration": 0.023757,
     "end_time": "2024-02-04T20:47:29.204985",
     "exception": false,
     "start_time": "2024-02-04T20:47:29.181228",
     "status": "completed"
    },
    "tags": []
   },
   "outputs": [],
   "source": [
    "class_names = [\"T-shirt/top\", \"Trouser\", \"Pullover\", \"Dress\", \"Coat\",\n",
    "               \"Sandal\", \"Shirt\", \"Sneaker\", \"Bag\", \"Ankle boot\"]"
   ]
  },
  {
   "cell_type": "code",
   "execution_count": 9,
   "id": "c29d7289",
   "metadata": {
    "execution": {
     "iopub.execute_input": "2024-02-04T20:47:29.239241Z",
     "iopub.status.busy": "2024-02-04T20:47:29.238923Z",
     "iopub.status.idle": "2024-02-04T20:47:29.705723Z",
     "shell.execute_reply": "2024-02-04T20:47:29.704938Z"
    },
    "papermill": {
     "duration": 0.486553,
     "end_time": "2024-02-04T20:47:29.708130",
     "exception": false,
     "start_time": "2024-02-04T20:47:29.221577",
     "status": "completed"
    },
    "tags": []
   },
   "outputs": [],
   "source": [
    "pixel_means = X_train.mean(axis=0, keepdims=True)\n",
    "pixel_stds = X_train.std(axis=0, keepdims=True)\n",
    "X_train_scaled = (X_train - pixel_means) / pixel_stds\n",
    "X_val_scaled = (X_val - pixel_means) / pixel_stds\n",
    "X_test_scaled = (X_test - pixel_means) / pixel_stds"
   ]
  },
  {
   "cell_type": "code",
   "execution_count": 10,
   "id": "3a678eea",
   "metadata": {
    "execution": {
     "iopub.execute_input": "2024-02-04T20:47:29.748207Z",
     "iopub.status.busy": "2024-02-04T20:47:29.747871Z",
     "iopub.status.idle": "2024-02-04T20:50:28.617034Z",
     "shell.execute_reply": "2024-02-04T20:50:28.616217Z"
    },
    "papermill": {
     "duration": 178.889592,
     "end_time": "2024-02-04T20:50:28.619138",
     "exception": false,
     "start_time": "2024-02-04T20:47:29.729546",
     "status": "completed"
    },
    "tags": []
   },
   "outputs": [
    {
     "name": "stdout",
     "output_type": "stream",
     "text": [
      "Epoch 1/5\n"
     ]
    },
    {
     "name": "stderr",
     "output_type": "stream",
     "text": [
      "WARNING: All log messages before absl::InitializeLog() is called are written to STDERR\n",
      "I0000 00:00:1707079660.565374      68 device_compiler.h:186] Compiled cluster using XLA!  This line is logged at most once for the lifetime of the process.\n"
     ]
    },
    {
     "name": "stdout",
     "output_type": "stream",
     "text": [
      "1719/1719 [==============================] - 48s 19ms/step - loss: 1.1817 - accuracy: 0.5419 - val_loss: 0.9360 - val_accuracy: 0.6608\n",
      "Epoch 2/5\n",
      "1719/1719 [==============================] - 33s 19ms/step - loss: 0.7745 - accuracy: 0.7136 - val_loss: 0.7392 - val_accuracy: 0.7362\n",
      "Epoch 3/5\n",
      "1719/1719 [==============================] - 33s 19ms/step - loss: 0.6587 - accuracy: 0.7593 - val_loss: 0.7289 - val_accuracy: 0.7468\n",
      "Epoch 4/5\n",
      "1719/1719 [==============================] - 33s 19ms/step - loss: 0.5860 - accuracy: 0.7855 - val_loss: 0.5717 - val_accuracy: 0.7880\n",
      "Epoch 5/5\n",
      "1719/1719 [==============================] - 32s 19ms/step - loss: 0.5452 - accuracy: 0.8032 - val_loss: 0.5376 - val_accuracy: 0.8106\n"
     ]
    }
   ],
   "source": [
    "history = model.fit(X_train_scaled, y_train, epochs=5,\n",
    "                    validation_data=(X_val_scaled, y_val))"
   ]
  },
  {
   "cell_type": "code",
   "execution_count": 11,
   "id": "2727026f",
   "metadata": {
    "execution": {
     "iopub.execute_input": "2024-02-04T20:50:29.101666Z",
     "iopub.status.busy": "2024-02-04T20:50:29.100654Z",
     "iopub.status.idle": "2024-02-04T20:50:30.818814Z",
     "shell.execute_reply": "2024-02-04T20:50:30.818026Z"
    },
    "papermill": {
     "duration": 1.959447,
     "end_time": "2024-02-04T20:50:30.820648",
     "exception": false,
     "start_time": "2024-02-04T20:50:28.861201",
     "status": "completed"
    },
    "tags": []
   },
   "outputs": [
    {
     "name": "stdout",
     "output_type": "stream",
     "text": [
      "313/313 [==============================] - 2s 5ms/step - loss: 0.5256 - accuracy: 0.8091\n"
     ]
    },
    {
     "data": {
      "text/plain": [
       "[0.5256236791610718, 0.8090999722480774]"
      ]
     },
     "execution_count": 11,
     "metadata": {},
     "output_type": "execute_result"
    }
   ],
   "source": [
    "model.evaluate(X_test_scaled, y_test)"
   ]
  },
  {
   "cell_type": "markdown",
   "id": "e4221d0d",
   "metadata": {
    "papermill": {
     "duration": 0.256104,
     "end_time": "2024-02-04T20:50:31.322767",
     "exception": false,
     "start_time": "2024-02-04T20:50:31.066663",
     "status": "completed"
    },
    "tags": []
   },
   "source": [
    "The network managed to learn, despite how deep it is. Now look at what happens if we try to use the ReLU activation function instead:"
   ]
  },
  {
   "cell_type": "code",
   "execution_count": 12,
   "id": "4b29fa52",
   "metadata": {
    "execution": {
     "iopub.execute_input": "2024-02-04T20:50:31.809213Z",
     "iopub.status.busy": "2024-02-04T20:50:31.808459Z",
     "iopub.status.idle": "2024-02-04T20:50:33.400571Z",
     "shell.execute_reply": "2024-02-04T20:50:33.399802Z"
    },
    "papermill": {
     "duration": 1.837971,
     "end_time": "2024-02-04T20:50:33.402853",
     "exception": false,
     "start_time": "2024-02-04T20:50:31.564882",
     "status": "completed"
    },
    "tags": []
   },
   "outputs": [],
   "source": [
    "tf.random.set_seed(42)\n",
    "\n",
    "model = Sequential()\n",
    "model.add(tf.keras.layers.Flatten(input_shape=[784]))\n",
    "for layer in range(100):\n",
    "    model.add(tf.keras.layers.Dense(100, activation=\"relu\",\n",
    "                                    kernel_initializer=\"he_normal\"))\n",
    "model.add(tf.keras.layers.Dense(10, activation=\"softmax\"))\n",
    "\n",
    "model.compile(loss=\"sparse_categorical_crossentropy\",\n",
    "              optimizer=SGD(learning_rate=0.001),\n",
    "              metrics=[\"accuracy\"])"
   ]
  },
  {
   "cell_type": "code",
   "execution_count": 13,
   "id": "abcb6653",
   "metadata": {
    "execution": {
     "iopub.execute_input": "2024-02-04T20:50:33.960782Z",
     "iopub.status.busy": "2024-02-04T20:50:33.960209Z",
     "iopub.status.idle": "2024-02-04T20:53:33.209950Z",
     "shell.execute_reply": "2024-02-04T20:53:33.208614Z"
    },
    "papermill": {
     "duration": 179.560683,
     "end_time": "2024-02-04T20:53:33.215681",
     "exception": false,
     "start_time": "2024-02-04T20:50:33.654998",
     "status": "completed"
    },
    "tags": []
   },
   "outputs": [
    {
     "name": "stdout",
     "output_type": "stream",
     "text": [
      "Epoch 1/5\n",
      "1719/1719 [==============================] - 47s 19ms/step - loss: 2.0145 - accuracy: 0.1893 - val_loss: 1.5857 - val_accuracy: 0.3102\n",
      "Epoch 2/5\n",
      "1719/1719 [==============================] - 33s 19ms/step - loss: 1.4342 - accuracy: 0.3879 - val_loss: 1.0510 - val_accuracy: 0.5810\n",
      "Epoch 3/5\n",
      "1719/1719 [==============================] - 33s 19ms/step - loss: 1.0888 - accuracy: 0.5498 - val_loss: 1.0324 - val_accuracy: 0.5614\n",
      "Epoch 4/5\n",
      "1719/1719 [==============================] - 33s 19ms/step - loss: 0.8854 - accuracy: 0.6440 - val_loss: 0.8427 - val_accuracy: 0.6662\n",
      "Epoch 5/5\n",
      "1719/1719 [==============================] - 33s 19ms/step - loss: 0.8290 - accuracy: 0.6656 - val_loss: 0.7827 - val_accuracy: 0.6736\n"
     ]
    }
   ],
   "source": [
    "history = model.fit(X_train_scaled, y_train, epochs=5,\n",
    "                    validation_data=(X_val_scaled, y_val))"
   ]
  },
  {
   "cell_type": "code",
   "execution_count": 14,
   "id": "d1745622",
   "metadata": {
    "execution": {
     "iopub.execute_input": "2024-02-04T20:53:34.167037Z",
     "iopub.status.busy": "2024-02-04T20:53:34.166679Z",
     "iopub.status.idle": "2024-02-04T20:53:36.843116Z",
     "shell.execute_reply": "2024-02-04T20:53:36.842122Z"
    },
    "papermill": {
     "duration": 3.147763,
     "end_time": "2024-02-04T20:53:36.845205",
     "exception": false,
     "start_time": "2024-02-04T20:53:33.697442",
     "status": "completed"
    },
    "tags": []
   },
   "outputs": [
    {
     "name": "stdout",
     "output_type": "stream",
     "text": [
      "313/313 [==============================] - 2s 5ms/step - loss: 0.7792 - accuracy: 0.6769\n"
     ]
    },
    {
     "data": {
      "text/plain": [
       "[0.7791754603385925, 0.6769000291824341]"
      ]
     },
     "execution_count": 14,
     "metadata": {},
     "output_type": "execute_result"
    }
   ],
   "source": [
    "model.evaluate(X_test_scaled, y_test)"
   ]
  },
  {
   "cell_type": "markdown",
   "id": "32309284",
   "metadata": {
    "papermill": {
     "duration": 0.474088,
     "end_time": "2024-02-04T20:53:37.791591",
     "exception": false,
     "start_time": "2024-02-04T20:53:37.317503",
     "status": "completed"
    },
    "tags": []
   },
   "source": [
    "Not great at all, we suffered from the vanishing/exploding gradients problem. "
   ]
  },
  {
   "cell_type": "markdown",
   "id": "bbaaafad",
   "metadata": {
    "papermill": {
     "duration": 0.473804,
     "end_time": "2024-02-04T20:53:38.776245",
     "exception": false,
     "start_time": "2024-02-04T20:53:38.302441",
     "status": "completed"
    },
    "tags": []
   },
   "source": [
    "# Batch Normalization"
   ]
  },
  {
   "cell_type": "code",
   "execution_count": 15,
   "id": "74d81400",
   "metadata": {
    "execution": {
     "iopub.execute_input": "2024-02-04T20:53:39.718817Z",
     "iopub.status.busy": "2024-02-04T20:53:39.718434Z",
     "iopub.status.idle": "2024-02-04T20:53:39.759265Z",
     "shell.execute_reply": "2024-02-04T20:53:39.758325Z"
    },
    "papermill": {
     "duration": 0.516374,
     "end_time": "2024-02-04T20:53:39.761160",
     "exception": false,
     "start_time": "2024-02-04T20:53:39.244786",
     "status": "completed"
    },
    "tags": []
   },
   "outputs": [],
   "source": [
    "# extra code - clear the name counters and set the random seed\n",
    "tf.keras.backend.clear_session()\n",
    "tf.random.set_seed(42)"
   ]
  },
  {
   "cell_type": "code",
   "execution_count": 16,
   "id": "98018669",
   "metadata": {
    "execution": {
     "iopub.execute_input": "2024-02-04T20:53:40.745301Z",
     "iopub.status.busy": "2024-02-04T20:53:40.744900Z",
     "iopub.status.idle": "2024-02-04T20:53:40.868662Z",
     "shell.execute_reply": "2024-02-04T20:53:40.867814Z"
    },
    "papermill": {
     "duration": 0.599871,
     "end_time": "2024-02-04T20:53:40.870936",
     "exception": false,
     "start_time": "2024-02-04T20:53:40.271065",
     "status": "completed"
    },
    "tags": []
   },
   "outputs": [],
   "source": [
    "from tensorflow.keras.layers import BatchNormalization\n",
    "\n",
    "model = Sequential([\n",
    "    Flatten(input_shape=[784]),\n",
    "    BatchNormalization(),\n",
    "    Dense(300, activation=\"relu\", kernel_initializer=\"he_normal\"),\n",
    "    BatchNormalization(),\n",
    "    Dense(100, activation=\"relu\", kernel_initializer=\"he_normal\"),\n",
    "    BatchNormalization(),\n",
    "    Dense(10, activation=\"softmax\")\n",
    "])"
   ]
  },
  {
   "cell_type": "code",
   "execution_count": 17,
   "id": "b738eb4a",
   "metadata": {
    "execution": {
     "iopub.execute_input": "2024-02-04T20:53:41.901070Z",
     "iopub.status.busy": "2024-02-04T20:53:41.900643Z",
     "iopub.status.idle": "2024-02-04T20:53:41.931533Z",
     "shell.execute_reply": "2024-02-04T20:53:41.930498Z"
    },
    "papermill": {
     "duration": 0.51658,
     "end_time": "2024-02-04T20:53:41.939030",
     "exception": false,
     "start_time": "2024-02-04T20:53:41.422450",
     "status": "completed"
    },
    "tags": []
   },
   "outputs": [
    {
     "name": "stdout",
     "output_type": "stream",
     "text": [
      "Model: \"sequential\"\n",
      "_________________________________________________________________\n",
      " Layer (type)                Output Shape              Param #   \n",
      "=================================================================\n",
      " flatten (Flatten)           (None, 784)               0         \n",
      "                                                                 \n",
      " batch_normalization (Batch  (None, 784)               3136      \n",
      " Normalization)                                                  \n",
      "                                                                 \n",
      " dense (Dense)               (None, 300)               235500    \n",
      "                                                                 \n",
      " batch_normalization_1 (Bat  (None, 300)               1200      \n",
      " chNormalization)                                                \n",
      "                                                                 \n",
      " dense_1 (Dense)             (None, 100)               30100     \n",
      "                                                                 \n",
      " batch_normalization_2 (Bat  (None, 100)               400       \n",
      " chNormalization)                                                \n",
      "                                                                 \n",
      " dense_2 (Dense)             (None, 10)                1010      \n",
      "                                                                 \n",
      "=================================================================\n",
      "Total params: 271346 (1.04 MB)\n",
      "Trainable params: 268978 (1.03 MB)\n",
      "Non-trainable params: 2368 (9.25 KB)\n",
      "_________________________________________________________________\n"
     ]
    }
   ],
   "source": [
    "model.summary()"
   ]
  },
  {
   "cell_type": "code",
   "execution_count": 18,
   "id": "e677f9c4",
   "metadata": {
    "execution": {
     "iopub.execute_input": "2024-02-04T20:53:42.945201Z",
     "iopub.status.busy": "2024-02-04T20:53:42.944822Z",
     "iopub.status.idle": "2024-02-04T20:53:42.951596Z",
     "shell.execute_reply": "2024-02-04T20:53:42.950717Z"
    },
    "papermill": {
     "duration": 0.488133,
     "end_time": "2024-02-04T20:53:42.953488",
     "exception": false,
     "start_time": "2024-02-04T20:53:42.465355",
     "status": "completed"
    },
    "tags": []
   },
   "outputs": [
    {
     "data": {
      "text/plain": [
       "[('batch_normalization/gamma:0', True),\n",
       " ('batch_normalization/beta:0', True),\n",
       " ('batch_normalization/moving_mean:0', False),\n",
       " ('batch_normalization/moving_variance:0', False)]"
      ]
     },
     "execution_count": 18,
     "metadata": {},
     "output_type": "execute_result"
    }
   ],
   "source": [
    "[(var.name, var.trainable) for var in model.layers[1].variables]"
   ]
  },
  {
   "cell_type": "code",
   "execution_count": 19,
   "id": "85f0984b",
   "metadata": {
    "execution": {
     "iopub.execute_input": "2024-02-04T20:53:43.900518Z",
     "iopub.status.busy": "2024-02-04T20:53:43.899834Z",
     "iopub.status.idle": "2024-02-04T20:54:21.969200Z",
     "shell.execute_reply": "2024-02-04T20:54:21.968260Z"
    },
    "papermill": {
     "duration": 38.548574,
     "end_time": "2024-02-04T20:54:21.971203",
     "exception": false,
     "start_time": "2024-02-04T20:53:43.422629",
     "status": "completed"
    },
    "tags": []
   },
   "outputs": [
    {
     "name": "stdout",
     "output_type": "stream",
     "text": [
      "Epoch 1/5\n",
      "1719/1719 [==============================] - 9s 4ms/step - loss: 0.5546 - accuracy: 0.8053 - val_loss: 0.4191 - val_accuracy: 0.8516\n",
      "Epoch 2/5\n",
      "1719/1719 [==============================] - 7s 4ms/step - loss: 0.4097 - accuracy: 0.8535 - val_loss: 0.3753 - val_accuracy: 0.8672\n",
      "Epoch 3/5\n",
      "1719/1719 [==============================] - 7s 4ms/step - loss: 0.3724 - accuracy: 0.8660 - val_loss: 0.3635 - val_accuracy: 0.8714\n",
      "Epoch 4/5\n",
      "1719/1719 [==============================] - 7s 4ms/step - loss: 0.3449 - accuracy: 0.8763 - val_loss: 0.3452 - val_accuracy: 0.8764\n",
      "Epoch 5/5\n",
      "1719/1719 [==============================] - 7s 4ms/step - loss: 0.3216 - accuracy: 0.8840 - val_loss: 0.3415 - val_accuracy: 0.8756\n"
     ]
    },
    {
     "data": {
      "text/plain": [
       "<keras.src.callbacks.History at 0x7a82c1892170>"
      ]
     },
     "execution_count": 19,
     "metadata": {},
     "output_type": "execute_result"
    }
   ],
   "source": [
    "model.compile(loss=\"sparse_categorical_crossentropy\", optimizer=\"sgd\",\n",
    "              metrics=\"accuracy\")\n",
    "model.fit(X_train, y_train, epochs=5, validation_data=(X_val, y_val))"
   ]
  },
  {
   "cell_type": "code",
   "execution_count": 20,
   "id": "96634098",
   "metadata": {
    "execution": {
     "iopub.execute_input": "2024-02-04T20:54:23.068523Z",
     "iopub.status.busy": "2024-02-04T20:54:23.068164Z",
     "iopub.status.idle": "2024-02-04T20:54:23.847416Z",
     "shell.execute_reply": "2024-02-04T20:54:23.846582Z"
    },
    "papermill": {
     "duration": 1.311056,
     "end_time": "2024-02-04T20:54:23.849246",
     "exception": false,
     "start_time": "2024-02-04T20:54:22.538190",
     "status": "completed"
    },
    "tags": []
   },
   "outputs": [
    {
     "name": "stdout",
     "output_type": "stream",
     "text": [
      "313/313 [==============================] - 1s 2ms/step - loss: 0.3260 - accuracy: 0.8793\n"
     ]
    },
    {
     "data": {
      "text/plain": [
       "[0.3259752094745636, 0.8792999982833862]"
      ]
     },
     "execution_count": 20,
     "metadata": {},
     "output_type": "execute_result"
    }
   ],
   "source": [
    "model.evaluate(X_test, y_test)"
   ]
  },
  {
   "cell_type": "markdown",
   "id": "ce1c01d5",
   "metadata": {
    "papermill": {
     "duration": 0.531759,
     "end_time": "2024-02-04T20:54:24.902443",
     "exception": false,
     "start_time": "2024-02-04T20:54:24.370684",
     "status": "completed"
    },
    "tags": []
   },
   "source": [
    "Sometimes applying BN before the activation function works better (there's a debate on this topic). Moreover, the layer before a BatchNormalization layer does not need to have bias terms, since the BatchNormalization layer has some as well, it would be a waste of parameters, so you can set `use_bias=False` when creating those layers:"
   ]
  },
  {
   "cell_type": "code",
   "execution_count": 21,
   "id": "68d56e83",
   "metadata": {
    "execution": {
     "iopub.execute_input": "2024-02-04T20:54:26.002818Z",
     "iopub.status.busy": "2024-02-04T20:54:26.001946Z",
     "iopub.status.idle": "2024-02-04T20:54:26.081529Z",
     "shell.execute_reply": "2024-02-04T20:54:26.080793Z"
    },
    "papermill": {
     "duration": 0.611876,
     "end_time": "2024-02-04T20:54:26.083473",
     "exception": false,
     "start_time": "2024-02-04T20:54:25.471597",
     "status": "completed"
    },
    "tags": []
   },
   "outputs": [],
   "source": [
    "from tensorflow.keras.layers import Activation\n",
    "\n",
    "model = Sequential([\n",
    "    Flatten(input_shape=[784]),\n",
    "    Dense(300, kernel_initializer=\"he_normal\", use_bias=False),\n",
    "    BatchNormalization(),\n",
    "    Activation(\"relu\"),\n",
    "    Dense(100, kernel_initializer=\"he_normal\", use_bias=False),\n",
    "    BatchNormalization(),\n",
    "    Activation(\"relu\"),\n",
    "    Dense(10, activation=\"softmax\")\n",
    "])"
   ]
  },
  {
   "cell_type": "code",
   "execution_count": 22,
   "id": "c06d80e3",
   "metadata": {
    "execution": {
     "iopub.execute_input": "2024-02-04T20:54:27.139974Z",
     "iopub.status.busy": "2024-02-04T20:54:27.139616Z",
     "iopub.status.idle": "2024-02-04T20:54:59.906874Z",
     "shell.execute_reply": "2024-02-04T20:54:59.906030Z"
    },
    "papermill": {
     "duration": 33.298291,
     "end_time": "2024-02-04T20:54:59.908977",
     "exception": false,
     "start_time": "2024-02-04T20:54:26.610686",
     "status": "completed"
    },
    "tags": []
   },
   "outputs": [
    {
     "name": "stdout",
     "output_type": "stream",
     "text": [
      "Epoch 1/5\n",
      "1719/1719 [==============================] - 7s 4ms/step - loss: 0.6139 - accuracy: 0.7935 - val_loss: 0.4568 - val_accuracy: 0.8426\n",
      "Epoch 2/5\n",
      "1719/1719 [==============================] - 6s 4ms/step - loss: 0.4354 - accuracy: 0.8471 - val_loss: 0.3997 - val_accuracy: 0.8596\n",
      "Epoch 3/5\n",
      "1719/1719 [==============================] - 6s 4ms/step - loss: 0.3899 - accuracy: 0.8628 - val_loss: 0.3821 - val_accuracy: 0.8626\n",
      "Epoch 4/5\n",
      "1719/1719 [==============================] - 6s 4ms/step - loss: 0.3578 - accuracy: 0.8732 - val_loss: 0.3682 - val_accuracy: 0.8678\n",
      "Epoch 5/5\n",
      "1719/1719 [==============================] - 6s 4ms/step - loss: 0.3352 - accuracy: 0.8809 - val_loss: 0.3488 - val_accuracy: 0.8732\n"
     ]
    },
    {
     "data": {
      "text/plain": [
       "<keras.src.callbacks.History at 0x7a87ebf59c90>"
      ]
     },
     "execution_count": 22,
     "metadata": {},
     "output_type": "execute_result"
    }
   ],
   "source": [
    "model.compile(loss=\"sparse_categorical_crossentropy\", optimizer=\"sgd\",\n",
    "              metrics=\"accuracy\")\n",
    "model.fit(X_train, y_train, epochs=5, validation_data=(X_val, y_val))"
   ]
  },
  {
   "cell_type": "code",
   "execution_count": 23,
   "id": "6a0a698d",
   "metadata": {
    "execution": {
     "iopub.execute_input": "2024-02-04T20:55:01.062167Z",
     "iopub.status.busy": "2024-02-04T20:55:01.061724Z",
     "iopub.status.idle": "2024-02-04T20:55:01.846084Z",
     "shell.execute_reply": "2024-02-04T20:55:01.845313Z"
    },
    "papermill": {
     "duration": 1.369256,
     "end_time": "2024-02-04T20:55:01.848021",
     "exception": false,
     "start_time": "2024-02-04T20:55:00.478765",
     "status": "completed"
    },
    "tags": []
   },
   "outputs": [
    {
     "name": "stdout",
     "output_type": "stream",
     "text": [
      "313/313 [==============================] - 1s 2ms/step - loss: 0.3354 - accuracy: 0.8785\n"
     ]
    },
    {
     "data": {
      "text/plain": [
       "[0.33535057306289673, 0.8784999847412109]"
      ]
     },
     "execution_count": 23,
     "metadata": {},
     "output_type": "execute_result"
    }
   ],
   "source": [
    "model.evaluate(X_test, y_test)"
   ]
  },
  {
   "cell_type": "markdown",
   "id": "019cf21d",
   "metadata": {
    "papermill": {
     "duration": 0.575421,
     "end_time": "2024-02-04T20:55:03.041531",
     "exception": false,
     "start_time": "2024-02-04T20:55:02.466110",
     "status": "completed"
    },
    "tags": []
   },
   "source": [
    "## Gradient clipping"
   ]
  },
  {
   "cell_type": "code",
   "execution_count": 24,
   "id": "42766d95",
   "metadata": {
    "execution": {
     "iopub.execute_input": "2024-02-04T20:55:04.196645Z",
     "iopub.status.busy": "2024-02-04T20:55:04.196299Z",
     "iopub.status.idle": "2024-02-04T20:55:39.326914Z",
     "shell.execute_reply": "2024-02-04T20:55:39.325957Z"
    },
    "papermill": {
     "duration": 35.712467,
     "end_time": "2024-02-04T20:55:39.329116",
     "exception": false,
     "start_time": "2024-02-04T20:55:03.616649",
     "status": "completed"
    },
    "tags": []
   },
   "outputs": [
    {
     "name": "stdout",
     "output_type": "stream",
     "text": [
      "Epoch 1/5\n",
      "1719/1719 [==============================] - 9s 4ms/step - loss: 0.3152 - accuracy: 0.8879 - val_loss: 0.3600 - val_accuracy: 0.8692\n",
      "Epoch 2/5\n",
      "1719/1719 [==============================] - 7s 4ms/step - loss: 0.3013 - accuracy: 0.8927 - val_loss: 0.3290 - val_accuracy: 0.8826\n",
      "Epoch 3/5\n",
      "1719/1719 [==============================] - 6s 4ms/step - loss: 0.2869 - accuracy: 0.8983 - val_loss: 0.3322 - val_accuracy: 0.8784\n",
      "Epoch 4/5\n",
      "1719/1719 [==============================] - 6s 4ms/step - loss: 0.2726 - accuracy: 0.9024 - val_loss: 0.3397 - val_accuracy: 0.8800\n",
      "Epoch 5/5\n",
      "1719/1719 [==============================] - 7s 4ms/step - loss: 0.2604 - accuracy: 0.9069 - val_loss: 0.3196 - val_accuracy: 0.8856\n"
     ]
    },
    {
     "data": {
      "text/plain": [
       "<keras.src.callbacks.History at 0x7a82c194fd90>"
      ]
     },
     "execution_count": 24,
     "metadata": {},
     "output_type": "execute_result"
    }
   ],
   "source": [
    "optimizer = SGD(clipvalue=1.0)\n",
    "model.compile(loss=\"sparse_categorical_crossentropy\", \n",
    "              optimizer=optimizer, \n",
    "              metrics=\"accuracy\")\n",
    "model.fit(X_train, y_train, epochs=5, validation_data=(X_val, y_val))"
   ]
  },
  {
   "cell_type": "code",
   "execution_count": 25,
   "id": "47c385df",
   "metadata": {
    "execution": {
     "iopub.execute_input": "2024-02-04T20:55:40.575832Z",
     "iopub.status.busy": "2024-02-04T20:55:40.574967Z",
     "iopub.status.idle": "2024-02-04T20:55:41.361657Z",
     "shell.execute_reply": "2024-02-04T20:55:41.360758Z"
    },
    "papermill": {
     "duration": 1.413223,
     "end_time": "2024-02-04T20:55:41.363661",
     "exception": false,
     "start_time": "2024-02-04T20:55:39.950438",
     "status": "completed"
    },
    "tags": []
   },
   "outputs": [
    {
     "name": "stdout",
     "output_type": "stream",
     "text": [
      "313/313 [==============================] - 1s 2ms/step - loss: 0.3102 - accuracy: 0.8876\n"
     ]
    },
    {
     "data": {
      "text/plain": [
       "[0.31020745635032654, 0.8876000046730042]"
      ]
     },
     "execution_count": 25,
     "metadata": {},
     "output_type": "execute_result"
    }
   ],
   "source": [
    "model.evaluate(X_test, y_test)"
   ]
  },
  {
   "cell_type": "markdown",
   "id": "39fed3d2",
   "metadata": {
    "papermill": {
     "duration": 0.621014,
     "end_time": "2024-02-04T20:55:42.657556",
     "exception": false,
     "start_time": "2024-02-04T20:55:42.036542",
     "status": "completed"
    },
    "tags": []
   },
   "source": [
    "# Faster Optimizers\n",
    "Below is a little function to generate models with different optimizers."
   ]
  },
  {
   "cell_type": "code",
   "execution_count": 26,
   "id": "1080ee33",
   "metadata": {
    "execution": {
     "iopub.execute_input": "2024-02-04T20:55:43.949933Z",
     "iopub.status.busy": "2024-02-04T20:55:43.949556Z",
     "iopub.status.idle": "2024-02-04T20:55:43.956578Z",
     "shell.execute_reply": "2024-02-04T20:55:43.955709Z"
    },
    "papermill": {
     "duration": 0.678064,
     "end_time": "2024-02-04T20:55:43.958433",
     "exception": false,
     "start_time": "2024-02-04T20:55:43.280369",
     "status": "completed"
    },
    "tags": []
   },
   "outputs": [],
   "source": [
    "def build_model(seed=42):\n",
    "    tf.random.set_seed(seed)\n",
    "    return Sequential([\n",
    "        Flatten(input_shape=[784]),\n",
    "        Dense(100, activation=\"relu\", kernel_initializer=\"he_normal\"),\n",
    "        Dense(100, activation=\"relu\", kernel_initializer=\"he_normal\"),\n",
    "        Dense(100, activation=\"relu\", kernel_initializer=\"he_normal\"),\n",
    "        Dense(10, activation=\"softmax\")\n",
    "    ])\n",
    "\n",
    "def build_and_train_model(optimizer):\n",
    "    model = build_model()\n",
    "    model.compile(loss=\"sparse_categorical_crossentropy\", optimizer=optimizer,\n",
    "                  metrics=[\"accuracy\"])\n",
    "    return model.fit(X_train, y_train, epochs=10,\n",
    "                     validation_data=(X_val, y_val))"
   ]
  },
  {
   "cell_type": "markdown",
   "id": "229da9b7",
   "metadata": {
    "papermill": {
     "duration": 0.621903,
     "end_time": "2024-02-04T20:55:45.197688",
     "exception": false,
     "start_time": "2024-02-04T20:55:44.575785",
     "status": "completed"
    },
    "tags": []
   },
   "source": [
    "## Momentum optimizer"
   ]
  },
  {
   "cell_type": "code",
   "execution_count": 27,
   "id": "768e8df5",
   "metadata": {
    "execution": {
     "iopub.execute_input": "2024-02-04T20:55:46.546232Z",
     "iopub.status.busy": "2024-02-04T20:55:46.545408Z",
     "iopub.status.idle": "2024-02-04T20:57:09.955135Z",
     "shell.execute_reply": "2024-02-04T20:57:09.954275Z"
    },
    "papermill": {
     "duration": 84.137671,
     "end_time": "2024-02-04T20:57:09.957393",
     "exception": false,
     "start_time": "2024-02-04T20:55:45.819722",
     "status": "completed"
    },
    "tags": []
   },
   "outputs": [
    {
     "name": "stdout",
     "output_type": "stream",
     "text": [
      "Epoch 1/10\n",
      "1719/1719 [==============================] - 6s 3ms/step - loss: 0.7002 - accuracy: 0.7581 - val_loss: 0.5160 - val_accuracy: 0.8196\n",
      "Epoch 2/10\n",
      "1719/1719 [==============================] - 5s 3ms/step - loss: 0.4708 - accuracy: 0.8339 - val_loss: 0.4839 - val_accuracy: 0.8346\n",
      "Epoch 3/10\n",
      "1719/1719 [==============================] - 5s 3ms/step - loss: 0.4250 - accuracy: 0.8494 - val_loss: 0.4455 - val_accuracy: 0.8406\n",
      "Epoch 4/10\n",
      "1719/1719 [==============================] - 5s 3ms/step - loss: 0.3950 - accuracy: 0.8592 - val_loss: 0.4251 - val_accuracy: 0.8512\n",
      "Epoch 5/10\n",
      "1719/1719 [==============================] - 5s 3ms/step - loss: 0.3750 - accuracy: 0.8656 - val_loss: 0.4057 - val_accuracy: 0.8604\n",
      "Epoch 6/10\n",
      "1719/1719 [==============================] - 5s 3ms/step - loss: 0.3636 - accuracy: 0.8685 - val_loss: 0.3854 - val_accuracy: 0.8634\n",
      "Epoch 7/10\n",
      "1719/1719 [==============================] - 5s 3ms/step - loss: 0.3479 - accuracy: 0.8746 - val_loss: 0.3819 - val_accuracy: 0.8636\n",
      "Epoch 8/10\n",
      "1719/1719 [==============================] - 5s 3ms/step - loss: 0.3361 - accuracy: 0.8786 - val_loss: 0.3849 - val_accuracy: 0.8618\n",
      "Epoch 9/10\n",
      "1719/1719 [==============================] - 5s 3ms/step - loss: 0.3270 - accuracy: 0.8823 - val_loss: 0.3817 - val_accuracy: 0.8624\n",
      "Epoch 10/10\n",
      "1719/1719 [==============================] - 5s 3ms/step - loss: 0.3198 - accuracy: 0.8839 - val_loss: 0.3704 - val_accuracy: 0.8702\n"
     ]
    }
   ],
   "source": [
    "optimizer = SGD(learning_rate=0.001, momentum=0.9)\n",
    "history_momentum = build_and_train_model(optimizer)"
   ]
  },
  {
   "cell_type": "markdown",
   "id": "ca4d99bc",
   "metadata": {
    "papermill": {
     "duration": 0.769942,
     "end_time": "2024-02-04T20:57:11.426628",
     "exception": false,
     "start_time": "2024-02-04T20:57:10.656686",
     "status": "completed"
    },
    "tags": []
   },
   "source": [
    "# Nesterov Accelerate Gradient"
   ]
  },
  {
   "cell_type": "code",
   "execution_count": 28,
   "id": "1e5c18c8",
   "metadata": {
    "execution": {
     "iopub.execute_input": "2024-02-04T20:57:12.821152Z",
     "iopub.status.busy": "2024-02-04T20:57:12.820764Z",
     "iopub.status.idle": "2024-02-04T20:58:03.686365Z",
     "shell.execute_reply": "2024-02-04T20:58:03.685453Z"
    },
    "papermill": {
     "duration": 51.56875,
     "end_time": "2024-02-04T20:58:03.688640",
     "exception": false,
     "start_time": "2024-02-04T20:57:12.119890",
     "status": "completed"
    },
    "tags": []
   },
   "outputs": [
    {
     "name": "stdout",
     "output_type": "stream",
     "text": [
      "Epoch 1/10\n",
      "1719/1719 [==============================] - 6s 3ms/step - loss: 0.7037 - accuracy: 0.7591 - val_loss: 0.5115 - val_accuracy: 0.8198\n",
      "Epoch 2/10\n",
      "1719/1719 [==============================] - 5s 3ms/step - loss: 0.4668 - accuracy: 0.8352 - val_loss: 0.4682 - val_accuracy: 0.8388\n",
      "Epoch 3/10\n",
      "1719/1719 [==============================] - 5s 3ms/step - loss: 0.4222 - accuracy: 0.8500 - val_loss: 0.4616 - val_accuracy: 0.8362\n",
      "Epoch 4/10\n",
      "1719/1719 [==============================] - 5s 3ms/step - loss: 0.3936 - accuracy: 0.8599 - val_loss: 0.4096 - val_accuracy: 0.8576\n",
      "Epoch 5/10\n",
      "1719/1719 [==============================] - 5s 3ms/step - loss: 0.3718 - accuracy: 0.8669 - val_loss: 0.3941 - val_accuracy: 0.8658\n",
      "Epoch 6/10\n",
      "1719/1719 [==============================] - 5s 3ms/step - loss: 0.3576 - accuracy: 0.8712 - val_loss: 0.3838 - val_accuracy: 0.8634\n",
      "Epoch 7/10\n",
      "1719/1719 [==============================] - 5s 3ms/step - loss: 0.3433 - accuracy: 0.8765 - val_loss: 0.3826 - val_accuracy: 0.8648\n",
      "Epoch 8/10\n",
      "1719/1719 [==============================] - 5s 3ms/step - loss: 0.3322 - accuracy: 0.8803 - val_loss: 0.3714 - val_accuracy: 0.8662\n",
      "Epoch 9/10\n",
      "1719/1719 [==============================] - 5s 3ms/step - loss: 0.3230 - accuracy: 0.8835 - val_loss: 0.3883 - val_accuracy: 0.8582\n",
      "Epoch 10/10\n",
      "1719/1719 [==============================] - 5s 3ms/step - loss: 0.3138 - accuracy: 0.8856 - val_loss: 0.3596 - val_accuracy: 0.8736\n"
     ]
    }
   ],
   "source": [
    "optimizer = SGD(learning_rate=0.001, momentum=0.9, nesterov=True)\n",
    "history_nesterov = build_and_train_model(optimizer)"
   ]
  },
  {
   "cell_type": "markdown",
   "id": "d9cfb2e6",
   "metadata": {
    "papermill": {
     "duration": 0.82037,
     "end_time": "2024-02-04T20:58:05.280126",
     "exception": false,
     "start_time": "2024-02-04T20:58:04.459756",
     "status": "completed"
    },
    "tags": []
   },
   "source": [
    "## AdaGrad"
   ]
  },
  {
   "cell_type": "code",
   "execution_count": 29,
   "id": "d358edad",
   "metadata": {
    "execution": {
     "iopub.execute_input": "2024-02-04T20:58:06.820649Z",
     "iopub.status.busy": "2024-02-04T20:58:06.819975Z",
     "iopub.status.idle": "2024-02-04T20:58:57.489893Z",
     "shell.execute_reply": "2024-02-04T20:58:57.488831Z"
    },
    "papermill": {
     "duration": 51.443383,
     "end_time": "2024-02-04T20:58:57.492005",
     "exception": false,
     "start_time": "2024-02-04T20:58:06.048622",
     "status": "completed"
    },
    "tags": []
   },
   "outputs": [
    {
     "name": "stdout",
     "output_type": "stream",
     "text": [
      "Epoch 1/10\n",
      "1719/1719 [==============================] - 6s 3ms/step - loss: 1.0620 - accuracy: 0.6677 - val_loss: 0.7273 - val_accuracy: 0.7532\n",
      "Epoch 2/10\n",
      "1719/1719 [==============================] - 5s 3ms/step - loss: 0.6571 - accuracy: 0.7810 - val_loss: 0.6255 - val_accuracy: 0.7844\n",
      "Epoch 3/10\n",
      "1719/1719 [==============================] - 5s 3ms/step - loss: 0.5855 - accuracy: 0.8023 - val_loss: 0.5795 - val_accuracy: 0.8062\n",
      "Epoch 4/10\n",
      "1719/1719 [==============================] - 5s 3ms/step - loss: 0.5478 - accuracy: 0.8132 - val_loss: 0.5530 - val_accuracy: 0.8140\n",
      "Epoch 5/10\n",
      "1719/1719 [==============================] - 5s 3ms/step - loss: 0.5240 - accuracy: 0.8196 - val_loss: 0.5338 - val_accuracy: 0.8168\n",
      "Epoch 6/10\n",
      "1719/1719 [==============================] - 5s 3ms/step - loss: 0.5066 - accuracy: 0.8252 - val_loss: 0.5217 - val_accuracy: 0.8222\n",
      "Epoch 7/10\n",
      "1719/1719 [==============================] - 5s 3ms/step - loss: 0.4932 - accuracy: 0.8280 - val_loss: 0.5106 - val_accuracy: 0.8244\n",
      "Epoch 8/10\n",
      "1719/1719 [==============================] - 5s 3ms/step - loss: 0.4823 - accuracy: 0.8326 - val_loss: 0.5003 - val_accuracy: 0.8274\n",
      "Epoch 9/10\n",
      "1719/1719 [==============================] - 5s 3ms/step - loss: 0.4735 - accuracy: 0.8350 - val_loss: 0.4935 - val_accuracy: 0.8320\n",
      "Epoch 10/10\n",
      "1719/1719 [==============================] - 5s 3ms/step - loss: 0.4659 - accuracy: 0.8369 - val_loss: 0.4848 - val_accuracy: 0.8338\n"
     ]
    }
   ],
   "source": [
    "from tensorflow.keras.optimizers import Adagrad, RMSprop, Adam, Adamax, Nadam, AdamW\n",
    "\n",
    "optimizer = Adagrad(learning_rate=0.001)\n",
    "history_adagrad = build_and_train_model(optimizer)"
   ]
  },
  {
   "cell_type": "markdown",
   "id": "b10627b8",
   "metadata": {
    "papermill": {
     "duration": 0.889614,
     "end_time": "2024-02-04T20:58:59.225090",
     "exception": false,
     "start_time": "2024-02-04T20:58:58.335476",
     "status": "completed"
    },
    "tags": []
   },
   "source": [
    "## RMSprop"
   ]
  },
  {
   "cell_type": "code",
   "execution_count": 30,
   "id": "d0b7dbb7",
   "metadata": {
    "execution": {
     "iopub.execute_input": "2024-02-04T20:59:00.966469Z",
     "iopub.status.busy": "2024-02-04T20:59:00.966085Z",
     "iopub.status.idle": "2024-02-04T20:59:51.404302Z",
     "shell.execute_reply": "2024-02-04T20:59:51.403450Z"
    },
    "papermill": {
     "duration": 51.337334,
     "end_time": "2024-02-04T20:59:51.406332",
     "exception": false,
     "start_time": "2024-02-04T20:59:00.068998",
     "status": "completed"
    },
    "tags": []
   },
   "outputs": [
    {
     "name": "stdout",
     "output_type": "stream",
     "text": [
      "Epoch 1/10\n",
      "1719/1719 [==============================] - 6s 3ms/step - loss: 0.5196 - accuracy: 0.8087 - val_loss: 0.4468 - val_accuracy: 0.8444\n",
      "Epoch 2/10\n",
      "1719/1719 [==============================] - 5s 3ms/step - loss: 0.3962 - accuracy: 0.8563 - val_loss: 0.4171 - val_accuracy: 0.8542\n",
      "Epoch 3/10\n",
      "1719/1719 [==============================] - 5s 3ms/step - loss: 0.3710 - accuracy: 0.8671 - val_loss: 0.4272 - val_accuracy: 0.8574\n",
      "Epoch 4/10\n",
      "1719/1719 [==============================] - 5s 3ms/step - loss: 0.3591 - accuracy: 0.8739 - val_loss: 0.4077 - val_accuracy: 0.8546\n",
      "Epoch 5/10\n",
      "1719/1719 [==============================] - 5s 3ms/step - loss: 0.3506 - accuracy: 0.8778 - val_loss: 0.3610 - val_accuracy: 0.8774\n",
      "Epoch 6/10\n",
      "1719/1719 [==============================] - 5s 3ms/step - loss: 0.3497 - accuracy: 0.8791 - val_loss: 0.3898 - val_accuracy: 0.8702\n",
      "Epoch 7/10\n",
      "1719/1719 [==============================] - 5s 3ms/step - loss: 0.3463 - accuracy: 0.8804 - val_loss: 0.4264 - val_accuracy: 0.8708\n",
      "Epoch 8/10\n",
      "1719/1719 [==============================] - 5s 3ms/step - loss: 0.3482 - accuracy: 0.8804 - val_loss: 0.4868 - val_accuracy: 0.8664\n",
      "Epoch 9/10\n",
      "1719/1719 [==============================] - 5s 3ms/step - loss: 0.3463 - accuracy: 0.8831 - val_loss: 0.4205 - val_accuracy: 0.8676\n",
      "Epoch 10/10\n",
      "1719/1719 [==============================] - 5s 3ms/step - loss: 0.3440 - accuracy: 0.8820 - val_loss: 0.4625 - val_accuracy: 0.8692\n"
     ]
    }
   ],
   "source": [
    "optimizer = RMSprop(learning_rate=0.001, rho=0.9)\n",
    "history_rmsprop = build_and_train_model(optimizer)"
   ]
  },
  {
   "cell_type": "markdown",
   "id": "e38b0210",
   "metadata": {
    "papermill": {
     "duration": 0.918483,
     "end_time": "2024-02-04T20:59:53.295570",
     "exception": false,
     "start_time": "2024-02-04T20:59:52.377087",
     "status": "completed"
    },
    "tags": []
   },
   "source": [
    "# Adam"
   ]
  },
  {
   "cell_type": "code",
   "execution_count": 31,
   "id": "78720985",
   "metadata": {
    "execution": {
     "iopub.execute_input": "2024-02-04T20:59:55.184549Z",
     "iopub.status.busy": "2024-02-04T20:59:55.184175Z",
     "iopub.status.idle": "2024-02-04T21:00:47.592244Z",
     "shell.execute_reply": "2024-02-04T21:00:47.591314Z"
    },
    "papermill": {
     "duration": 53.332672,
     "end_time": "2024-02-04T21:00:47.594302",
     "exception": false,
     "start_time": "2024-02-04T20:59:54.261630",
     "status": "completed"
    },
    "tags": []
   },
   "outputs": [
    {
     "name": "stdout",
     "output_type": "stream",
     "text": [
      "Epoch 1/10\n",
      "1719/1719 [==============================] - 7s 3ms/step - loss: 0.4940 - accuracy: 0.8206 - val_loss: 0.4168 - val_accuracy: 0.8580\n",
      "Epoch 2/10\n",
      "1719/1719 [==============================] - 5s 3ms/step - loss: 0.3776 - accuracy: 0.8612 - val_loss: 0.3606 - val_accuracy: 0.8692\n",
      "Epoch 3/10\n",
      "1719/1719 [==============================] - 5s 3ms/step - loss: 0.3424 - accuracy: 0.8742 - val_loss: 0.3618 - val_accuracy: 0.8694\n",
      "Epoch 4/10\n",
      "1719/1719 [==============================] - 5s 3ms/step - loss: 0.3158 - accuracy: 0.8818 - val_loss: 0.3475 - val_accuracy: 0.8740\n",
      "Epoch 5/10\n",
      "1719/1719 [==============================] - 5s 3ms/step - loss: 0.3032 - accuracy: 0.8875 - val_loss: 0.3411 - val_accuracy: 0.8800\n",
      "Epoch 6/10\n",
      "1719/1719 [==============================] - 5s 3ms/step - loss: 0.2884 - accuracy: 0.8920 - val_loss: 0.3276 - val_accuracy: 0.8814\n",
      "Epoch 7/10\n",
      "1719/1719 [==============================] - 5s 3ms/step - loss: 0.2758 - accuracy: 0.8963 - val_loss: 0.3390 - val_accuracy: 0.8806\n",
      "Epoch 8/10\n",
      "1719/1719 [==============================] - 5s 3ms/step - loss: 0.2631 - accuracy: 0.9007 - val_loss: 0.3443 - val_accuracy: 0.8816\n",
      "Epoch 9/10\n",
      "1719/1719 [==============================] - 5s 3ms/step - loss: 0.2519 - accuracy: 0.9047 - val_loss: 0.3446 - val_accuracy: 0.8770\n",
      "Epoch 10/10\n",
      "1719/1719 [==============================] - 5s 3ms/step - loss: 0.2465 - accuracy: 0.9073 - val_loss: 0.3507 - val_accuracy: 0.8812\n"
     ]
    }
   ],
   "source": [
    "optimizer = Adam(learning_rate=0.001, beta_1=0.9, beta_2=0.999)\n",
    "history_adam = build_and_train_model(optimizer)"
   ]
  },
  {
   "cell_type": "markdown",
   "id": "252f80a7",
   "metadata": {
    "papermill": {
     "duration": 1.040305,
     "end_time": "2024-02-04T21:00:49.628199",
     "exception": false,
     "start_time": "2024-02-04T21:00:48.587894",
     "status": "completed"
    },
    "tags": []
   },
   "source": [
    "## Adamax"
   ]
  },
  {
   "cell_type": "code",
   "execution_count": 32,
   "id": "a5b8402b",
   "metadata": {
    "execution": {
     "iopub.execute_input": "2024-02-04T21:00:51.674133Z",
     "iopub.status.busy": "2024-02-04T21:00:51.673255Z",
     "iopub.status.idle": "2024-02-04T21:01:42.804063Z",
     "shell.execute_reply": "2024-02-04T21:01:42.803020Z"
    },
    "papermill": {
     "duration": 52.191538,
     "end_time": "2024-02-04T21:01:42.806269",
     "exception": false,
     "start_time": "2024-02-04T21:00:50.614731",
     "status": "completed"
    },
    "tags": []
   },
   "outputs": [
    {
     "name": "stdout",
     "output_type": "stream",
     "text": [
      "Epoch 1/10\n",
      "1719/1719 [==============================] - 6s 3ms/step - loss: 0.5381 - accuracy: 0.8111 - val_loss: 0.4429 - val_accuracy: 0.8440\n",
      "Epoch 2/10\n",
      "1719/1719 [==============================] - 5s 3ms/step - loss: 0.4045 - accuracy: 0.8551 - val_loss: 0.4132 - val_accuracy: 0.8556\n",
      "Epoch 3/10\n",
      "1719/1719 [==============================] - 5s 3ms/step - loss: 0.3657 - accuracy: 0.8689 - val_loss: 0.3899 - val_accuracy: 0.8590\n",
      "Epoch 4/10\n",
      "1719/1719 [==============================] - 5s 3ms/step - loss: 0.3394 - accuracy: 0.8775 - val_loss: 0.3728 - val_accuracy: 0.8644\n",
      "Epoch 5/10\n",
      "1719/1719 [==============================] - 5s 3ms/step - loss: 0.3227 - accuracy: 0.8831 - val_loss: 0.3477 - val_accuracy: 0.8746\n",
      "Epoch 6/10\n",
      "1719/1719 [==============================] - 5s 3ms/step - loss: 0.3094 - accuracy: 0.8869 - val_loss: 0.3455 - val_accuracy: 0.8746\n",
      "Epoch 7/10\n",
      "1719/1719 [==============================] - 5s 3ms/step - loss: 0.2966 - accuracy: 0.8917 - val_loss: 0.3490 - val_accuracy: 0.8760\n",
      "Epoch 8/10\n",
      "1719/1719 [==============================] - 5s 3ms/step - loss: 0.2838 - accuracy: 0.8953 - val_loss: 0.3601 - val_accuracy: 0.8704\n",
      "Epoch 9/10\n",
      "1719/1719 [==============================] - 5s 3ms/step - loss: 0.2736 - accuracy: 0.8983 - val_loss: 0.3550 - val_accuracy: 0.8664\n",
      "Epoch 10/10\n",
      "1719/1719 [==============================] - 5s 3ms/step - loss: 0.2658 - accuracy: 0.9006 - val_loss: 0.3240 - val_accuracy: 0.8846\n"
     ]
    }
   ],
   "source": [
    "optimizer = Adamax(learning_rate=0.001, beta_1=0.9, beta_2=0.999)\n",
    "history_adamax = build_and_train_model(optimizer)"
   ]
  },
  {
   "cell_type": "markdown",
   "id": "24382cef",
   "metadata": {
    "papermill": {
     "duration": 1.062634,
     "end_time": "2024-02-04T21:01:44.987693",
     "exception": false,
     "start_time": "2024-02-04T21:01:43.925059",
     "status": "completed"
    },
    "tags": []
   },
   "source": [
    "## Nadam"
   ]
  },
  {
   "cell_type": "code",
   "execution_count": 33,
   "id": "a50cc206",
   "metadata": {
    "execution": {
     "iopub.execute_input": "2024-02-04T21:01:47.158906Z",
     "iopub.status.busy": "2024-02-04T21:01:47.158029Z",
     "iopub.status.idle": "2024-02-04T21:02:46.573246Z",
     "shell.execute_reply": "2024-02-04T21:02:46.572147Z"
    },
    "papermill": {
     "duration": 60.479645,
     "end_time": "2024-02-04T21:02:46.575489",
     "exception": false,
     "start_time": "2024-02-04T21:01:46.095844",
     "status": "completed"
    },
    "tags": []
   },
   "outputs": [
    {
     "name": "stdout",
     "output_type": "stream",
     "text": [
      "Epoch 1/10\n",
      "1719/1719 [==============================] - 8s 3ms/step - loss: 0.4882 - accuracy: 0.8246 - val_loss: 0.3971 - val_accuracy: 0.8596\n",
      "Epoch 2/10\n",
      "1719/1719 [==============================] - 6s 3ms/step - loss: 0.3744 - accuracy: 0.8626 - val_loss: 0.3797 - val_accuracy: 0.8664\n",
      "Epoch 3/10\n",
      "1719/1719 [==============================] - 6s 3ms/step - loss: 0.3424 - accuracy: 0.8743 - val_loss: 0.4125 - val_accuracy: 0.8496\n",
      "Epoch 4/10\n",
      "1719/1719 [==============================] - 5s 3ms/step - loss: 0.3167 - accuracy: 0.8830 - val_loss: 0.3353 - val_accuracy: 0.8754\n",
      "Epoch 5/10\n",
      "1719/1719 [==============================] - 6s 3ms/step - loss: 0.3004 - accuracy: 0.8894 - val_loss: 0.3401 - val_accuracy: 0.8802\n",
      "Epoch 6/10\n",
      "1719/1719 [==============================] - 6s 3ms/step - loss: 0.2858 - accuracy: 0.8938 - val_loss: 0.3320 - val_accuracy: 0.8802\n",
      "Epoch 7/10\n",
      "1719/1719 [==============================] - 6s 3ms/step - loss: 0.2737 - accuracy: 0.8976 - val_loss: 0.3503 - val_accuracy: 0.8784\n",
      "Epoch 8/10\n",
      "1719/1719 [==============================] - 6s 3ms/step - loss: 0.2621 - accuracy: 0.9014 - val_loss: 0.3474 - val_accuracy: 0.8784\n",
      "Epoch 9/10\n",
      "1719/1719 [==============================] - 6s 3ms/step - loss: 0.2525 - accuracy: 0.9053 - val_loss: 0.3552 - val_accuracy: 0.8708\n",
      "Epoch 10/10\n",
      "1719/1719 [==============================] - 6s 3ms/step - loss: 0.2436 - accuracy: 0.9071 - val_loss: 0.3358 - val_accuracy: 0.8828\n"
     ]
    }
   ],
   "source": [
    "optimizer = Nadam(learning_rate=0.001, beta_1=0.9, beta_2=0.999)\n",
    "history_nadam = build_and_train_model(optimizer)"
   ]
  },
  {
   "cell_type": "markdown",
   "id": "6977018f",
   "metadata": {
    "papermill": {
     "duration": 1.146232,
     "end_time": "2024-02-04T21:02:48.929749",
     "exception": false,
     "start_time": "2024-02-04T21:02:47.783517",
     "status": "completed"
    },
    "tags": []
   },
   "source": [
    "## AdamW"
   ]
  },
  {
   "cell_type": "code",
   "execution_count": 34,
   "id": "f0061c74",
   "metadata": {
    "execution": {
     "iopub.execute_input": "2024-02-04T21:02:51.304335Z",
     "iopub.status.busy": "2024-02-04T21:02:51.303420Z",
     "iopub.status.idle": "2024-02-04T21:03:45.595784Z",
     "shell.execute_reply": "2024-02-04T21:03:45.594632Z"
    },
    "papermill": {
     "duration": 55.466938,
     "end_time": "2024-02-04T21:03:45.598558",
     "exception": false,
     "start_time": "2024-02-04T21:02:50.131620",
     "status": "completed"
    },
    "tags": []
   },
   "outputs": [
    {
     "name": "stdout",
     "output_type": "stream",
     "text": [
      "Epoch 1/10\n",
      "1719/1719 [==============================] - 6s 3ms/step - loss: 0.5007 - accuracy: 0.8191 - val_loss: 0.3970 - val_accuracy: 0.8624\n",
      "Epoch 2/10\n",
      "1719/1719 [==============================] - 5s 3ms/step - loss: 0.3790 - accuracy: 0.8608 - val_loss: 0.3822 - val_accuracy: 0.8636\n",
      "Epoch 3/10\n",
      "1719/1719 [==============================] - 5s 3ms/step - loss: 0.3426 - accuracy: 0.8739 - val_loss: 0.3851 - val_accuracy: 0.8566\n",
      "Epoch 4/10\n",
      "1719/1719 [==============================] - 5s 3ms/step - loss: 0.3181 - accuracy: 0.8815 - val_loss: 0.3474 - val_accuracy: 0.8732\n",
      "Epoch 5/10\n",
      "1719/1719 [==============================] - 5s 3ms/step - loss: 0.3023 - accuracy: 0.8877 - val_loss: 0.3405 - val_accuracy: 0.8748\n",
      "Epoch 6/10\n",
      "1719/1719 [==============================] - 5s 3ms/step - loss: 0.2899 - accuracy: 0.8915 - val_loss: 0.3395 - val_accuracy: 0.8772\n",
      "Epoch 7/10\n",
      "1719/1719 [==============================] - 5s 3ms/step - loss: 0.2762 - accuracy: 0.8967 - val_loss: 0.3309 - val_accuracy: 0.8844\n",
      "Epoch 8/10\n",
      "1719/1719 [==============================] - 5s 3ms/step - loss: 0.2629 - accuracy: 0.9010 - val_loss: 0.3548 - val_accuracy: 0.8740\n",
      "Epoch 9/10\n",
      "1719/1719 [==============================] - 5s 3ms/step - loss: 0.2554 - accuracy: 0.9030 - val_loss: 0.3288 - val_accuracy: 0.8768\n",
      "Epoch 10/10\n",
      "1719/1719 [==============================] - 5s 3ms/step - loss: 0.2446 - accuracy: 0.9077 - val_loss: 0.3611 - val_accuracy: 0.8770\n"
     ]
    }
   ],
   "source": [
    "optimizer = AdamW(weight_decay=1e-5, learning_rate=0.001, beta_1=0.9, beta_2=0.999)\n",
    "history_adamw = build_and_train_model(optimizer)"
   ]
  },
  {
   "cell_type": "markdown",
   "id": "62e4f35c",
   "metadata": {
    "papermill": {
     "duration": 1.221959,
     "end_time": "2024-02-04T21:03:48.102537",
     "exception": false,
     "start_time": "2024-02-04T21:03:46.880578",
     "status": "completed"
    },
    "tags": []
   },
   "source": [
    "## Final comparison between optimizers"
   ]
  },
  {
   "cell_type": "code",
   "execution_count": 35,
   "id": "6eb7cd66",
   "metadata": {
    "execution": {
     "iopub.execute_input": "2024-02-04T21:03:50.593603Z",
     "iopub.status.busy": "2024-02-04T21:03:50.592899Z",
     "iopub.status.idle": "2024-02-04T21:03:51.139774Z",
     "shell.execute_reply": "2024-02-04T21:03:51.138485Z"
    },
    "papermill": {
     "duration": 1.76791,
     "end_time": "2024-02-04T21:03:51.142719",
     "exception": false,
     "start_time": "2024-02-04T21:03:49.374809",
     "status": "completed"
    },
    "tags": []
   },
   "outputs": [
    {
     "data": {
      "image/png": "[encoded data removed]",
      "text/plain": [
       "<Figure size 1200x800 with 1 Axes>"
      ]
     },
     "metadata": {},
     "output_type": "display_data"
    },
    {
     "data": {
      "image/png": "[encoded data removed]",
      "text/plain": [
       "<Figure size 1200x800 with 1 Axes>"
      ]
     },
     "metadata": {},
     "output_type": "display_data"
    }
   ],
   "source": [
    "for loss in (\"loss\", \"val_loss\"):\n",
    "    plt.figure(figsize=(12, 8))\n",
    "    opt_names = \"Momentum Nesterov AdaGrad RMSProp Adam Adamax Nadam AdamW\"\n",
    "    for history, opt_name in zip((history_momentum, history_nesterov,\n",
    "                                  history_adagrad, history_rmsprop, history_adam,\n",
    "                                  history_adamax, history_nadam, history_adamw),\n",
    "                                 opt_names.split()):\n",
    "        plt.plot(history.history[loss], label=f\"{opt_name}\", linewidth=3)\n",
    "\n",
    "    plt.grid()\n",
    "    plt.xlabel(\"Epochs\")\n",
    "    plt.ylabel({\"loss\": \"Training loss\", \"val_loss\": \"Validation loss\"}[loss])\n",
    "    plt.legend(loc=\"upper left\")\n",
    "    plt.axis([0, 9, 0.1, 0.7])\n",
    "    plt.show()"
   ]
  },
  {
   "cell_type": "markdown",
   "id": "c18e8a7a",
   "metadata": {
    "papermill": {
     "duration": 1.283827,
     "end_time": "2024-02-04T21:03:53.730363",
     "exception": false,
     "start_time": "2024-02-04T21:03:52.446536",
     "status": "completed"
    },
    "tags": []
   },
   "source": [
    "# 1Cycle Learning rate scheduling\n",
    "The ExponentialLearningRate custom callback updates the learning rate during training, at the end of each batch. It multiplies it by a constant `factor`. It also saves the learning rate and loss at each batch. Since `logs[\"loss\"]` is actually the mean loss since the start of the epoch, and we want to save the batch loss instead, we must compute the mean times the number of batches since the beginning of the epoch to get the total loss so far, then we subtract the total loss at the previous batch to get the current batch's loss."
   ]
  },
  {
   "cell_type": "code",
   "execution_count": 36,
   "id": "3b01171e",
   "metadata": {
    "execution": {
     "iopub.execute_input": "2024-02-04T21:03:56.234266Z",
     "iopub.status.busy": "2024-02-04T21:03:56.233393Z",
     "iopub.status.idle": "2024-02-04T21:03:56.242276Z",
     "shell.execute_reply": "2024-02-04T21:03:56.241490Z"
    },
    "papermill": {
     "duration": 1.283906,
     "end_time": "2024-02-04T21:03:56.244162",
     "exception": false,
     "start_time": "2024-02-04T21:03:54.960256",
     "status": "completed"
    },
    "tags": []
   },
   "outputs": [],
   "source": [
    "from tensorflow.keras.callbacks import Callback\n",
    "\n",
    "K = tf.keras.backend\n",
    "\n",
    "class ExponentialLearningRate(Callback):\n",
    "    def __init__(self, factor):\n",
    "        self.factor = factor\n",
    "        self.rates = []\n",
    "        self.losses = []\n",
    "\n",
    "    def on_epoch_begin(self, epoch, logs=None):\n",
    "        self.sum_of_epoch_losses = 0\n",
    "\n",
    "    def on_batch_end(self, batch, logs=None):\n",
    "        mean_epoch_loss = logs[\"loss\"]  # the epoch's mean loss so far \n",
    "        new_sum_of_epoch_losses = mean_epoch_loss * (batch + 1)\n",
    "        batch_loss = new_sum_of_epoch_losses - self.sum_of_epoch_losses\n",
    "        self.sum_of_epoch_losses = new_sum_of_epoch_losses\n",
    "        self.rates.append(K.get_value(self.model.optimizer.learning_rate))\n",
    "        self.losses.append(batch_loss)\n",
    "        K.set_value(self.model.optimizer.learning_rate,\n",
    "                    self.model.optimizer.learning_rate * self.factor)"
   ]
  },
  {
   "cell_type": "markdown",
   "id": "f6146c96",
   "metadata": {
    "papermill": {
     "duration": 1.224887,
     "end_time": "2024-02-04T21:03:58.745644",
     "exception": false,
     "start_time": "2024-02-04T21:03:57.520757",
     "status": "completed"
    },
    "tags": []
   },
   "source": [
    "The `find_learning_rate()` function trains the model using the `ExponentialLearningRate` callback, and it returns the learning rates and corresponding batch losses. At the end, it restores the model and its optimizer to their initial state."
   ]
  },
  {
   "cell_type": "code",
   "execution_count": 37,
   "id": "c18ea07b",
   "metadata": {
    "execution": {
     "iopub.execute_input": "2024-02-04T21:04:01.282948Z",
     "iopub.status.busy": "2024-02-04T21:04:01.282589Z",
     "iopub.status.idle": "2024-02-04T21:04:01.289820Z",
     "shell.execute_reply": "2024-02-04T21:04:01.288915Z"
    },
    "papermill": {
     "duration": 1.267469,
     "end_time": "2024-02-04T21:04:01.291619",
     "exception": false,
     "start_time": "2024-02-04T21:04:00.024150",
     "status": "completed"
    },
    "tags": []
   },
   "outputs": [],
   "source": [
    "import math\n",
    "\n",
    "def find_learning_rate(model, X, y, epochs=1, batch_size=32, min_rate=1e-4,\n",
    "                       max_rate=1):\n",
    "    init_weights = model.get_weights()\n",
    "    iterations = math.ceil(len(X) / batch_size) * epochs\n",
    "    factor = (max_rate / min_rate) ** (1 / iterations)\n",
    "    init_lr = K.get_value(model.optimizer.learning_rate)\n",
    "    K.set_value(model.optimizer.learning_rate, min_rate)\n",
    "    exp_lr = ExponentialLearningRate(factor)\n",
    "    history = model.fit(X, y, epochs=epochs, batch_size=batch_size,\n",
    "                        callbacks=[exp_lr])\n",
    "    K.set_value(model.optimizer.learning_rate, init_lr)\n",
    "    model.set_weights(init_weights)\n",
    "    return exp_lr.rates, exp_lr.losses"
   ]
  },
  {
   "cell_type": "markdown",
   "id": "8b73acc7",
   "metadata": {
    "papermill": {
     "duration": 1.281352,
     "end_time": "2024-02-04T21:04:03.851479",
     "exception": false,
     "start_time": "2024-02-04T21:04:02.570127",
     "status": "completed"
    },
    "tags": []
   },
   "source": [
    "The `plot_lr_vs_loss()` function plots the learning rates vs the losses. The optimal learning rate to use as the maximum learning rate in 1cycle is near the bottom of the curve."
   ]
  },
  {
   "cell_type": "code",
   "execution_count": 38,
   "id": "79c30ffe",
   "metadata": {
    "execution": {
     "iopub.execute_input": "2024-02-04T21:04:06.344618Z",
     "iopub.status.busy": "2024-02-04T21:04:06.344246Z",
     "iopub.status.idle": "2024-02-04T21:04:06.350452Z",
     "shell.execute_reply": "2024-02-04T21:04:06.349598Z"
    },
    "papermill": {
     "duration": 1.279169,
     "end_time": "2024-02-04T21:04:06.352318",
     "exception": false,
     "start_time": "2024-02-04T21:04:05.073149",
     "status": "completed"
    },
    "tags": []
   },
   "outputs": [],
   "source": [
    "def plot_lr_vs_loss(rates, losses):\n",
    "    plt.plot(rates, losses, \"b\")\n",
    "    plt.gca().set_xscale('log')\n",
    "    max_loss = losses[0] + min(losses)\n",
    "    plt.hlines(min(losses), min(rates), max(rates), color=\"k\")\n",
    "    plt.axis([min(rates), max(rates), 0, max_loss])\n",
    "    plt.xlabel(\"Learning rate\")\n",
    "    plt.ylabel(\"Loss\")\n",
    "    plt.grid()"
   ]
  },
  {
   "cell_type": "markdown",
   "id": "216f6cc5",
   "metadata": {
    "papermill": {
     "duration": 1.344451,
     "end_time": "2024-02-04T21:04:09.019793",
     "exception": false,
     "start_time": "2024-02-04T21:04:07.675342",
     "status": "completed"
    },
    "tags": []
   },
   "source": [
    "Let's build a simple Fashion MNIST model and compile it:"
   ]
  },
  {
   "cell_type": "code",
   "execution_count": 39,
   "id": "c2de21d4",
   "metadata": {
    "execution": {
     "iopub.execute_input": "2024-02-04T21:04:11.592029Z",
     "iopub.status.busy": "2024-02-04T21:04:11.591675Z",
     "iopub.status.idle": "2024-02-04T21:04:11.673997Z",
     "shell.execute_reply": "2024-02-04T21:04:11.673056Z"
    },
    "papermill": {
     "duration": 1.385421,
     "end_time": "2024-02-04T21:04:11.675976",
     "exception": false,
     "start_time": "2024-02-04T21:04:10.290555",
     "status": "completed"
    },
    "tags": []
   },
   "outputs": [],
   "source": [
    "model = build_model()\n",
    "model.compile(loss=\"sparse_categorical_crossentropy\",\n",
    "              optimizer=tf.keras.optimizers.SGD(learning_rate=0.001),\n",
    "              metrics=[\"accuracy\"])"
   ]
  },
  {
   "cell_type": "markdown",
   "id": "5d856b33",
   "metadata": {
    "papermill": {
     "duration": 1.219701,
     "end_time": "2024-02-04T21:04:14.240360",
     "exception": false,
     "start_time": "2024-02-04T21:04:13.020659",
     "status": "completed"
    },
    "tags": []
   },
   "source": [
    "Now let's find the optimal max learning rate for 1cycle:"
   ]
  },
  {
   "cell_type": "code",
   "execution_count": 40,
   "id": "9a66bff6",
   "metadata": {
    "execution": {
     "iopub.execute_input": "2024-02-04T21:04:16.740853Z",
     "iopub.status.busy": "2024-02-04T21:04:16.739963Z",
     "iopub.status.idle": "2024-02-04T21:04:20.028159Z",
     "shell.execute_reply": "2024-02-04T21:04:20.027255Z"
    },
    "papermill": {
     "duration": 4.514786,
     "end_time": "2024-02-04T21:04:20.030154",
     "exception": false,
     "start_time": "2024-02-04T21:04:15.515368",
     "status": "completed"
    },
    "tags": []
   },
   "outputs": [
    {
     "name": "stdout",
     "output_type": "stream",
     "text": [
      "430/430 [==============================] - 2s 4ms/step - loss: 1.8104 - accuracy: 0.3967\n"
     ]
    },
    {
     "data": {
      "image/png": "[encoded data removed]",
      "text/plain": [
       "<Figure size 640x480 with 1 Axes>"
      ]
     },
     "metadata": {},
     "output_type": "display_data"
    }
   ],
   "source": [
    "batch_size = 128\n",
    "rates, losses = find_learning_rate(model, X_train, y_train, epochs=1,\n",
    "                                   batch_size=batch_size)\n",
    "plot_lr_vs_loss(rates, losses)"
   ]
  },
  {
   "cell_type": "markdown",
   "id": "f58de2b7",
   "metadata": {
    "papermill": {
     "duration": 1.278547,
     "end_time": "2024-02-04T21:04:22.603721",
     "exception": false,
     "start_time": "2024-02-04T21:04:21.325174",
     "status": "completed"
    },
    "tags": []
   },
   "source": [
    "Looks like the max learning rate to use for 1cycle is around 0.08.\n",
    "\n",
    "The `OneCycleScheduler` custom callback updates the learning rate at the beginning of each batch. It applies the following logic: increase the learning rate linearly during about half of training, then reduce it linearly back to the initial learning rate, and lastly reduce it down to close to zero linearly for the very last part of training."
   ]
  },
  {
   "cell_type": "code",
   "execution_count": 41,
   "id": "167e6b39",
   "metadata": {
    "execution": {
     "iopub.execute_input": "2024-02-04T21:04:25.101862Z",
     "iopub.status.busy": "2024-02-04T21:04:25.101505Z",
     "iopub.status.idle": "2024-02-04T21:04:25.110937Z",
     "shell.execute_reply": "2024-02-04T21:04:25.110275Z"
    },
    "papermill": {
     "duration": 1.286508,
     "end_time": "2024-02-04T21:04:25.112766",
     "exception": false,
     "start_time": "2024-02-04T21:04:23.826258",
     "status": "completed"
    },
    "tags": []
   },
   "outputs": [],
   "source": [
    "class OneCycleScheduler(Callback):\n",
    "    def __init__(self, iterations, max_lr=1e-3, start_lr=None,\n",
    "                 last_iterations=None, last_lr=None):\n",
    "        self.iterations = iterations\n",
    "        self.max_lr = max_lr\n",
    "        self.start_lr = start_lr or max_lr / 10\n",
    "        self.last_iterations = last_iterations or iterations // 10 + 1\n",
    "        self.half_iteration = (iterations - self.last_iterations) // 2\n",
    "        self.last_lr = last_lr or self.start_lr / 1000\n",
    "        self.iteration = 0\n",
    "\n",
    "    def _interpolate(self, iter1, iter2, lr1, lr2):\n",
    "        return (lr2 - lr1) * (self.iteration - iter1) / (iter2 - iter1) + lr1\n",
    "\n",
    "    def on_batch_begin(self, batch, logs):\n",
    "        if self.iteration < self.half_iteration:\n",
    "            lr = self._interpolate(0, self.half_iteration, self.start_lr,\n",
    "                                   self.max_lr)\n",
    "        elif self.iteration < 2 * self.half_iteration:\n",
    "            lr = self._interpolate(self.half_iteration, 2 * self.half_iteration,\n",
    "                                   self.max_lr, self.start_lr)\n",
    "        else:\n",
    "            lr = self._interpolate(2 * self.half_iteration, self.iterations,\n",
    "                                   self.start_lr, self.last_lr)\n",
    "        self.iteration += 1\n",
    "        K.set_value(self.model.optimizer.learning_rate, lr)"
   ]
  },
  {
   "cell_type": "markdown",
   "id": "3a74cfe4",
   "metadata": {
    "papermill": {
     "duration": 1.223611,
     "end_time": "2024-02-04T21:04:27.613829",
     "exception": false,
     "start_time": "2024-02-04T21:04:26.390218",
     "status": "completed"
    },
    "tags": []
   },
   "source": [
    "# Putting everything together\n",
    "Let's build a neural network with 10 hidden layers with Swish activation function and He initialization. Add BN for normalization and Dropout(only after the last hidden layer) and Early Stopping for regularization. Then use AdamW optimizer and 1cycle scheduling."
   ]
  },
  {
   "cell_type": "code",
   "execution_count": 42,
   "id": "8377c66e",
   "metadata": {
    "execution": {
     "iopub.execute_input": "2024-02-04T21:04:30.166008Z",
     "iopub.status.busy": "2024-02-04T21:04:30.165378Z",
     "iopub.status.idle": "2024-02-04T21:04:30.368911Z",
     "shell.execute_reply": "2024-02-04T21:04:30.368157Z"
    },
    "papermill": {
     "duration": 1.484713,
     "end_time": "2024-02-04T21:04:30.370840",
     "exception": false,
     "start_time": "2024-02-04T21:04:28.886127",
     "status": "completed"
    },
    "tags": []
   },
   "outputs": [],
   "source": [
    "from tensorflow.keras.layers import Dropout\n",
    "\n",
    "tf.random.set_seed(42)\n",
    "model = Sequential()\n",
    "model.add(Flatten(input_shape=[784]))\n",
    "for layer in range(10):\n",
    "    BatchNormalization()\n",
    "    model.add(Dense(100, activation=\"swish\",\n",
    "                    kernel_initializer=\"he_normal\"))\n",
    "model.add(Dropout(rate=0.2))\n",
    "model.add(Dense(10, activation=\"softmax\"))\n",
    "\n",
    "model.compile(loss=\"sparse_categorical_crossentropy\",\n",
    "              optimizer=AdamW(weight_decay=1e-5, beta_1=0.9, beta_2=0.999),\n",
    "              metrics=[\"accuracy\"])"
   ]
  },
  {
   "cell_type": "code",
   "execution_count": 43,
   "id": "1db1d714",
   "metadata": {
    "execution": {
     "iopub.execute_input": "2024-02-04T21:04:32.901338Z",
     "iopub.status.busy": "2024-02-04T21:04:32.900658Z",
     "iopub.status.idle": "2024-02-04T21:05:32.047722Z",
     "shell.execute_reply": "2024-02-04T21:05:32.046723Z"
    },
    "papermill": {
     "duration": 60.428184,
     "end_time": "2024-02-04T21:05:32.049713",
     "exception": false,
     "start_time": "2024-02-04T21:04:31.621529",
     "status": "completed"
    },
    "tags": []
   },
   "outputs": [
    {
     "name": "stdout",
     "output_type": "stream",
     "text": [
      "Epoch 1/30\n",
      "430/430 [==============================] - 10s 13ms/step - loss: 0.5929 - accuracy: 0.7862 - val_loss: 0.4450 - val_accuracy: 0.8416\n",
      "Epoch 2/30\n",
      "430/430 [==============================] - 4s 10ms/step - loss: 0.3989 - accuracy: 0.8549 - val_loss: 0.3755 - val_accuracy: 0.8654\n",
      "Epoch 3/30\n",
      "430/430 [==============================] - 4s 10ms/step - loss: 0.3588 - accuracy: 0.8704 - val_loss: 0.3720 - val_accuracy: 0.8642\n",
      "Epoch 4/30\n",
      "430/430 [==============================] - 4s 10ms/step - loss: 0.3347 - accuracy: 0.8776 - val_loss: 0.3467 - val_accuracy: 0.8778\n",
      "Epoch 5/30\n",
      "430/430 [==============================] - 4s 10ms/step - loss: 0.3110 - accuracy: 0.8848 - val_loss: 0.3463 - val_accuracy: 0.8786\n",
      "Epoch 6/30\n",
      "430/430 [==============================] - 2s 6ms/step - loss: 0.2992 - accuracy: 0.8897 - val_loss: 0.3507 - val_accuracy: 0.8722\n",
      "Epoch 7/30\n",
      "430/430 [==============================] - 5s 12ms/step - loss: 0.2827 - accuracy: 0.8957 - val_loss: 0.3271 - val_accuracy: 0.8868\n",
      "Epoch 8/30\n",
      "430/430 [==============================] - 3s 6ms/step - loss: 0.2693 - accuracy: 0.9006 - val_loss: 0.3352 - val_accuracy: 0.8826\n",
      "Epoch 9/30\n",
      "430/430 [==============================] - 2s 5ms/step - loss: 0.2576 - accuracy: 0.9051 - val_loss: 0.3290 - val_accuracy: 0.8862\n",
      "Epoch 10/30\n",
      "430/430 [==============================] - 2s 5ms/step - loss: 0.2525 - accuracy: 0.9049 - val_loss: 0.3277 - val_accuracy: 0.8898\n",
      "Epoch 11/30\n",
      "430/430 [==============================] - 2s 5ms/step - loss: 0.2396 - accuracy: 0.9109 - val_loss: 0.3317 - val_accuracy: 0.8846\n",
      "Epoch 12/30\n",
      "430/430 [==============================] - 2s 5ms/step - loss: 0.2332 - accuracy: 0.9145 - val_loss: 0.3321 - val_accuracy: 0.8880\n",
      "Epoch 13/30\n",
      "430/430 [==============================] - 2s 5ms/step - loss: 0.2213 - accuracy: 0.9167 - val_loss: 0.3710 - val_accuracy: 0.8810\n",
      "Epoch 14/30\n",
      "430/430 [==============================] - 2s 5ms/step - loss: 0.2181 - accuracy: 0.9191 - val_loss: 0.3431 - val_accuracy: 0.8936\n",
      "Epoch 15/30\n",
      "430/430 [==============================] - 2s 5ms/step - loss: 0.2092 - accuracy: 0.9221 - val_loss: 0.3607 - val_accuracy: 0.8882\n",
      "Epoch 16/30\n",
      "430/430 [==============================] - 2s 5ms/step - loss: 0.2012 - accuracy: 0.9233 - val_loss: 0.3462 - val_accuracy: 0.8862\n",
      "Epoch 17/30\n",
      "430/430 [==============================] - 2s 5ms/step - loss: 0.1960 - accuracy: 0.9267 - val_loss: 0.3487 - val_accuracy: 0.8902\n"
     ]
    }
   ],
   "source": [
    "from tensorflow.keras.callbacks import EarlyStopping, ModelCheckpoint\n",
    "\n",
    "n_epochs = 30\n",
    "onecycle = OneCycleScheduler(iterations=math.ceil(len(X_train) / batch_size) * n_epochs,\n",
    "                             max_lr=0.08)\n",
    "checkpoint_cb = ModelCheckpoint(\"my_fashion_model\", save_best_only=True)\n",
    "early_stopping_cb = EarlyStopping(patience=10)\n",
    "\n",
    "history = model.fit(X_train, y_train, epochs=n_epochs, batch_size=batch_size,\n",
    "                    validation_data=(X_val, y_val),\n",
    "                    callbacks=[checkpoint_cb, early_stopping_cb])"
   ]
  },
  {
   "cell_type": "code",
   "execution_count": 44,
   "id": "3c995e37",
   "metadata": {
    "execution": {
     "iopub.execute_input": "2024-02-04T21:05:34.730858Z",
     "iopub.status.busy": "2024-02-04T21:05:34.729922Z",
     "iopub.status.idle": "2024-02-04T21:05:35.554743Z",
     "shell.execute_reply": "2024-02-04T21:05:35.553821Z"
    },
    "papermill": {
     "duration": 2.166086,
     "end_time": "2024-02-04T21:05:35.556714",
     "exception": false,
     "start_time": "2024-02-04T21:05:33.390628",
     "status": "completed"
    },
    "tags": []
   },
   "outputs": [
    {
     "name": "stdout",
     "output_type": "stream",
     "text": [
      "313/313 [==============================] - 1s 2ms/step - loss: 0.3237 - accuracy: 0.8938\n"
     ]
    },
    {
     "data": {
      "text/plain": [
       "[0.3237271010875702, 0.8938000202178955]"
      ]
     },
     "execution_count": 44,
     "metadata": {},
     "output_type": "execute_result"
    }
   ],
   "source": [
    "model.evaluate(X_test, y_test)"
   ]
  },
  {
   "cell_type": "markdown",
   "id": "010f05e5",
   "metadata": {
    "papermill": {
     "duration": 1.281336,
     "end_time": "2024-02-04T21:05:38.208204",
     "exception": false,
     "start_time": "2024-02-04T21:05:36.926868",
     "status": "completed"
    },
    "tags": []
   },
   "source": [
    "# Results\n",
    "\n",
    "OneCycle max_lr = 0.1, Adam Optimizer, no Early Stopping: \\\n",
    "89.67% test accuracy\n",
    "\n",
    "OneCycle max_lr = 0.08, AdamW Optimizer (weight_decay=1e-5), Early Stopping: \\\n",
    "89.23% test accuracy\n",
    "\n",
    "Not excellent but not bad for a simple DNN"
   ]
  }
 ],
 "metadata": {
  "kaggle": {
   "accelerator": "none",
   "dataSources": [
    {
     "datasetId": 2243,
     "sourceId": 9243,
     "sourceType": "datasetVersion"
    }
   ],
   "dockerImageVersionId": 30646,
   "isGpuEnabled": false,
   "isInternetEnabled": true,
   "language": "python",
   "sourceType": "notebook"
  },
  "kernelspec": {
   "display_name": "Python 3",
   "language": "python",
   "name": "python3"
  },
  "language_info": {
   "codemirror_mode": {
    "name": "ipython",
    "version": 3
   },
   "file_extension": ".py",
   "mimetype": "text/x-python",
   "name": "python",
   "nbconvert_exporter": "python",
   "pygments_lexer": "ipython3",
   "version": "3.10.13"
  },
  "papermill": {
   "default_parameters": {},
   "duration": 1119.089123,
   "end_time": "2024-02-04T21:05:42.525762",
   "environment_variables": {},
   "exception": null,
   "input_path": "__notebook__.ipynb",
   "output_path": "__notebook__.ipynb",
   "parameters": {},
   "start_time": "2024-02-04T20:47:03.436639",
   "version": "2.5.0"
  }
 },
 "nbformat": 4,
 "nbformat_minor": 5
}
